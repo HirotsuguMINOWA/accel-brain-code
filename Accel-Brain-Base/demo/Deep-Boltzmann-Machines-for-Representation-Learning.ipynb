{
 "cells": [
  {
   "cell_type": "markdown",
   "metadata": {},
   "source": [
    "# Problem Setting: Representation Learning.\n",
    "\n",
    "This notebook demonstrates that the Deep Boltzmann Machines(DBM) can learn images and reconstruct its. Image dataset for this demo is the MNIST. The code of this notebook is written on the premise that the MNIST images are divided and arranged in directories for each label beforehand.\n",
    "\n",
    "## Problem Solution: Deep Boltzmann Machines(DBM).\n",
    "\n",
    "As is well known, DBM is composed of layers of RBMs stacked on top of each other(Salakhutdinov, R., & Hinton, G. E. 2009). This model is a structural expansion of Deep Belief Networks(DBN), which is known as one of the earliest models of Deep Learning(Le Roux, N., & Bengio, Y. 2008). Like RBM, DBN places nodes in layers. However, only the uppermost layer is composed of undirected edges, and the other consists of directed edges.\n",
    "\n",
    "According to graph theory, the structure of RBM corresponds to a complete bipartite graph which is a special kind of bipartite graph where every node in the visible layer is connected to every node in the hidden layer. Based on statistical mechanics and thermodynamics(Ackley, D. H., Hinton, G. E., & Sejnowski, T. J. 1985), the state of this structure can be reflected by the energy function.\n",
    "\n",
    "In relation to RBM, the Contrastive Divergence(CD) is a method for approximation of the gradients of the log-likelihood(Hinton, G. E. 2002).This algorithm draws a distinction between a positive phase and a negative phase. Conceptually, the positive phase is to the negative phase what waking is to sleeping.\n",
    "\n",
    "The procedure of this method is similar to Markov Chain Monte Carlo method(MCMC). However, unlike MCMC, the visbile variables to be set first in visible layer is not randomly initialized but the observed data points in training dataset are set to the first visbile variables. And, like Gibbs sampler, drawing samples from hidden variables and visible variables is repeated k times. Empirically (and surprisingly), `k` is considered to be `1`.\n",
    "\n",
    "As a simple example, this notebook attempts to train a sample sampled from a Gaussian distribution.\n",
    "\n",
    "### Modeling and Implementation.\n",
    "\n",
    "Firstly, import Python modules for building the Deep Boltzmann Machines."
   ]
  },
  {
   "cell_type": "code",
   "execution_count": 1,
   "metadata": {},
   "outputs": [],
   "source": [
    "from accelbrainbase.iteratabledata._mxnet.gauss_iterator import GaussIterator\n",
    "from accelbrainbase.noiseabledata._mxnet.gauss_noise import GaussNoise\n",
    "from accelbrainbase.observabledata._mxnet.restrictedboltzmannmachines.deep_boltzmann_machines import DeepBoltzmannMachines\n",
    "from accelbrainbase.observabledata._mxnet.restricted_boltzmann_machines import RestrictedBoltzmannMachines\n",
    "from accelbrainbase.computableloss._mxnet.l2_norm_loss import L2NormLoss"
   ]
  },
  {
   "cell_type": "code",
   "execution_count": 3,
   "metadata": {},
   "outputs": [],
   "source": [
    "import mxnet as mx\n",
    "import mxnet.ndarray as nd\n",
    "import numpy as np\n",
    "import pandas as pd"
   ]
  },
  {
   "cell_type": "markdown",
   "metadata": {},
   "source": [
    "If you want to observe the learning log, set `getLogger`."
   ]
  },
  {
   "cell_type": "code",
   "execution_count": 2,
   "metadata": {},
   "outputs": [],
   "source": [
    "from logging import getLogger, StreamHandler, NullHandler, DEBUG, ERROR\n",
    "\n",
    "logger = getLogger(\"accelbrainbase\")\n",
    "handler = StreamHandler()\n",
    "handler.setLevel(DEBUG)\n",
    "logger.setLevel(DEBUG)\n",
    "logger.addHandler(handler)"
   ]
  },
  {
   "cell_type": "markdown",
   "metadata": {},
   "source": [
    "Build and initialize `GaussIterator`, specifying parameters such as parameters of Gauss noise."
   ]
  },
  {
   "cell_type": "code",
   "execution_count": 4,
   "metadata": {},
   "outputs": [],
   "source": [
    "gauss_iterator = GaussIterator(\n",
    "    # `float` of mean (“centre”) of the distribution.\n",
    "    loc=0.0,\n",
    "    # `float` of standard deviation (spread or “width”) of the distribution.\n",
    "    std=1.0,\n",
    "    # `int` of dimension of sample data.\n",
    "    dim=1000,\n",
    "    # `int` of epochs.\n",
    "    epochs=10000,\n",
    "    # `int` batch size.\n",
    "    batch_size=40,\n",
    "    # How to normalize pixel values of images.\n",
    "    # - `z_score`: Z-Score normalization.\n",
    "    # - `min_max`: Min-max normalization.\n",
    "    # - others : This class will not normalize the data.\n",
    "    norm_mode=\"min_max\",\n",
    "    # `float` of scaling factor for data.\n",
    "    scale=1.0,\n",
    "    # is-a `NoiseableData`.\n",
    "    noiseable_data=GaussNoise(sigma=1e-03, mu=0.0),\n",
    ")"
   ]
  },
  {
   "cell_type": "markdown",
   "metadata": {},
   "source": [
    "Build and initialize loss function."
   ]
  },
  {
   "cell_type": "code",
   "execution_count": 5,
   "metadata": {},
   "outputs": [],
   "source": [
    "computable_loss = L2NormLoss()"
   ]
  },
  {
   "cell_type": "markdown",
   "metadata": {},
   "source": [
    "Build and initialize `RestrictedBoltzmannMachines`s."
   ]
  },
  {
   "cell_type": "code",
   "execution_count": 6,
   "metadata": {},
   "outputs": [],
   "source": [
    "RBM_1 = RestrictedBoltzmannMachines(\n",
    "    # is-a `ComputableLoss`.\n",
    "    computable_loss=computable_loss,\n",
    "    # `mxnet.ndarray.Activation` or `mxnet.symbol.Activation` in visible layer.\n",
    "    visible_activation=\"sigmoid\",\n",
    "    # `mxnet.ndarray.Activation` or `mxnet.symbol.Activation` in hidden layer.\n",
    "    hidden_activation=\"sigmoid\",\n",
    "    # `int` of dimension in visible layer.\n",
    "    visible_dim=1000,\n",
    "    # `int` of dimension in hidden layer.\n",
    "    hidden_dim=100,\n",
    "    # `float` of dropout rate in visible layer.\n",
    "    visible_dropout_rate=0.0,\n",
    "    # `float` of dropout rate in hidden layer.\n",
    "    hidden_dropout_rate=0.0,\n",
    "    # `gluon.nn.BatchNorm` in visible layer.\n",
    "    visible_batch_norm=None,\n",
    "    # `gluon.nn.BatchNorm` in hidden layer.\n",
    "    hidden_batch_norm=None,\n",
    "    # `mx.gpu()` or `mx.cpu()`.\n",
    "    ctx=mx.gpu(),\n",
    ")\n",
    "\n",
    "RBM_2 = RestrictedBoltzmannMachines(\n",
    "    # is-a `ComputableLoss`.\n",
    "    computable_loss=computable_loss,\n",
    "    # `mxnet.ndarray.Activation` or `mxnet.symbol.Activation` in visible layer.\n",
    "    visible_activation=\"sigmoid\",\n",
    "    # `mxnet.ndarray.Activation` or `mxnet.symbol.Activation` in hidden layer.\n",
    "    hidden_activation=\"sigmoid\",\n",
    "    # `int` of dimension in visible layer.\n",
    "    visible_dim=100,\n",
    "    # `int` of dimension in hidden layer.\n",
    "    hidden_dim=100,\n",
    "    # `float` of dropout rate in visible layer.\n",
    "    visible_dropout_rate=0.0,\n",
    "    # `float` of dropout rate in hidden layer.\n",
    "    hidden_dropout_rate=0.0,\n",
    "    # `gluon.nn.BatchNorm` in visible layer.\n",
    "    visible_batch_norm=None,\n",
    "    # `gluon.nn.BatchNorm` in hidden layer.\n",
    "    hidden_batch_norm=None,\n",
    "    # `mx.gpu()` or `mx.cpu()`.\n",
    "    ctx=mx.gpu(),\n",
    ")\n",
    "\n",
    "RBM_3 = RestrictedBoltzmannMachines(\n",
    "    # is-a `ComputableLoss`.\n",
    "    computable_loss=computable_loss,\n",
    "    # `mxnet.ndarray.Activation` or `mxnet.symbol.Activation` in visible layer.\n",
    "    visible_activation=\"sigmoid\",\n",
    "    # `mxnet.ndarray.Activation` or `mxnet.symbol.Activation` in hidden layer.\n",
    "    hidden_activation=\"sigmoid\",\n",
    "    # `int` of dimension in visible layer.\n",
    "    visible_dim=100,\n",
    "    # `int` of dimension in hidden layer.\n",
    "    hidden_dim=1000,\n",
    "    # `float` of dropout rate in visible layer.\n",
    "    visible_dropout_rate=0.0,\n",
    "    # `float` of dropout rate in hidden layer.\n",
    "    hidden_dropout_rate=0.0,\n",
    "    # `gluon.nn.BatchNorm` in visible layer.\n",
    "    visible_batch_norm=None,\n",
    "    # `gluon.nn.BatchNorm` in hidden layer.\n",
    "    hidden_batch_norm=None,\n",
    "    # `mx.gpu()` or `mx.cpu()`.\n",
    "    ctx=mx.gpu(),\n",
    ")"
   ]
  },
  {
   "cell_type": "markdown",
   "metadata": {},
   "source": [
    "Build and initialize `DeepBoltzmannMachines`, delegating `list` of `RestrictedBoltzmannMachines`s."
   ]
  },
  {
   "cell_type": "code",
   "execution_count": 7,
   "metadata": {},
   "outputs": [],
   "source": [
    "DBM = DeepBoltzmannMachines(\n",
    "    # is-a `ComputableLoss`.\n",
    "    computable_loss=computable_loss,\n",
    "    # `list` of `RestrictedBoltzmannMachines`s.\n",
    "    rbm_list=[\n",
    "        RBM_1,\n",
    "        RBM_2,\n",
    "        RBM_3\n",
    "    ],\n",
    "    # is-a `mxnet.initializer` for parameters of model. If `None`, it is drawing from the Xavier distribution.\n",
    "    initializer=None,\n",
    "    # `str` of name of optimizer.\n",
    "    optimizer_name=\"Adam\",\n",
    "    # `float` of learning rate.\n",
    "    learning_rate=1e-03,\n",
    "    # `float` of attenuate the `learning_rate` by a factor of this value every `attenuate_epoch`.\n",
    "    learning_attenuate_rate=1.0,\n",
    "    # `int` of attenuate the `learning_rate` by a factor of `learning_attenuate_rate` every `attenuate_epoch`.\n",
    "    attenuate_epoch=50,\n",
    ")"
   ]
  },
  {
   "cell_type": "markdown",
   "metadata": {},
   "source": [
    "Start learning."
   ]
  },
  {
   "cell_type": "code",
   "execution_count": 8,
   "metadata": {
    "scrolled": true
   },
   "outputs": [
    {
     "name": "stderr",
     "output_type": "stream",
     "text": [
      "Epoch: 100 Train loss: 0.0012600279 Test loss: 0.0009863755\n",
      "Epoch: 200 Train loss: 0.0009124829 Test loss: 0.0009858222\n",
      "Epoch: 300 Train loss: 0.00073830277 Test loss: 0.0011751417\n",
      "Epoch: 400 Train loss: 0.0008954682 Test loss: 0.0010014875\n",
      "Epoch: 500 Train loss: 0.0008823477 Test loss: 0.00071658683\n",
      "Epoch: 600 Train loss: 0.0007359229 Test loss: 0.00056723476\n",
      "Epoch: 700 Train loss: 0.00084609655 Test loss: 0.0006721969\n",
      "Epoch: 800 Train loss: 0.00070735556 Test loss: 0.00075290125\n",
      "Epoch: 900 Train loss: 0.0008967077 Test loss: 0.0010541372\n",
      "Epoch: 1000 Train loss: 0.0008268699 Test loss: 0.00039934245\n",
      "Epoch: 1100 Train loss: 0.0005464133 Test loss: 0.0005217896\n",
      "Epoch: 1200 Train loss: 0.000609399 Test loss: 0.00080017775\n",
      "Epoch: 1300 Train loss: 0.00055293005 Test loss: 0.00077352393\n",
      "Epoch: 1400 Train loss: 0.0006295765 Test loss: 0.00096744794\n",
      "Epoch: 1500 Train loss: 0.00048343604 Test loss: 0.000703053\n",
      "Epoch: 1600 Train loss: 0.00073716923 Test loss: 0.00081935304\n",
      "Epoch: 1700 Train loss: 0.0005635719 Test loss: 0.0006520982\n",
      "Epoch: 1800 Train loss: 0.00075347413 Test loss: 0.00060561683\n",
      "Epoch: 1900 Train loss: 0.000775152 Test loss: 0.00064577593\n",
      "Epoch: 2000 Train loss: 0.0006678267 Test loss: 0.00069130474\n",
      "Epoch: 2100 Train loss: 0.0006806364 Test loss: 0.0007894132\n",
      "Epoch: 2200 Train loss: 0.0008517212 Test loss: 0.0006961511\n",
      "Epoch: 2300 Train loss: 0.0007023201 Test loss: 0.0006576386\n",
      "Epoch: 2400 Train loss: 0.0005217847 Test loss: 0.00088993023\n",
      "Epoch: 2500 Train loss: 0.00038874883 Test loss: 0.0007335781\n",
      "Epoch: 2600 Train loss: 0.0005400713 Test loss: 0.0005490434\n",
      "Epoch: 2700 Train loss: 0.0007447307 Test loss: 0.0007547836\n",
      "Epoch: 2800 Train loss: 0.0007290705 Test loss: 0.0006518956\n",
      "Epoch: 2900 Train loss: 0.00063649105 Test loss: 0.00065610476\n",
      "Epoch: 3000 Train loss: 0.0005786465 Test loss: 0.00064115203\n",
      "Epoch: 3100 Train loss: 0.00066040613 Test loss: 0.0007945033\n",
      "Epoch: 3200 Train loss: 0.0006208881 Test loss: 0.000557155\n",
      "Epoch: 3300 Train loss: 0.0005815948 Test loss: 0.00076861767\n",
      "Epoch: 3400 Train loss: 0.00068690936 Test loss: 0.0005447926\n",
      "Epoch: 3500 Train loss: 0.0006097473 Test loss: 0.00065665087\n",
      "Epoch: 3600 Train loss: 0.0006570062 Test loss: 0.00054171734\n",
      "Epoch: 3700 Train loss: 0.00068851473 Test loss: 0.00066223193\n",
      "Epoch: 3800 Train loss: 0.0006468951 Test loss: 0.000612493\n",
      "Epoch: 3900 Train loss: 0.0006264866 Test loss: 0.0005179117\n",
      "Epoch: 4000 Train loss: 0.0006105828 Test loss: 0.00069614785\n",
      "Epoch: 4100 Train loss: 0.0006012867 Test loss: 0.0006692866\n",
      "Epoch: 4200 Train loss: 0.0006034777 Test loss: 0.0005630189\n",
      "Epoch: 4300 Train loss: 0.00051055773 Test loss: 0.00080362294\n",
      "Epoch: 4400 Train loss: 0.00079603 Test loss: 0.0010903203\n",
      "Epoch: 4500 Train loss: 0.00068583776 Test loss: 0.0004940304\n",
      "Epoch: 4600 Train loss: 0.00079666905 Test loss: 0.0008023191\n",
      "Epoch: 4700 Train loss: 0.0007353994 Test loss: 0.0006911081\n",
      "Epoch: 4800 Train loss: 0.0009227802 Test loss: 0.0005553423\n",
      "Epoch: 4900 Train loss: 0.00063643086 Test loss: 0.0005506001\n",
      "Epoch: 5000 Train loss: 0.0007950094 Test loss: 0.00071582646\n",
      "Epoch: 5100 Train loss: 0.0007045981 Test loss: 0.0009544199\n",
      "Epoch: 5200 Train loss: 0.0007103425 Test loss: 0.00055692176\n",
      "Epoch: 5300 Train loss: 0.0007476443 Test loss: 0.0005589642\n",
      "Epoch: 5400 Train loss: 0.0008275176 Test loss: 0.0005703487\n",
      "Epoch: 5500 Train loss: 0.0004739624 Test loss: 0.0005390801\n",
      "Epoch: 5600 Train loss: 0.0009773133 Test loss: 0.0008138797\n",
      "Epoch: 5700 Train loss: 0.00083720643 Test loss: 0.0005802844\n",
      "Epoch: 5800 Train loss: 0.00045077823 Test loss: 0.0005520826\n",
      "Epoch: 5900 Train loss: 0.0006523502 Test loss: 0.00072915613\n",
      "Epoch: 6000 Train loss: 0.0006919076 Test loss: 0.0007698255\n",
      "Epoch: 6100 Train loss: 0.00042148554 Test loss: 0.00066561677\n",
      "Epoch: 6200 Train loss: 0.0005594706 Test loss: 0.0006436308\n",
      "Epoch: 6300 Train loss: 0.00037143723 Test loss: 0.0006028653\n",
      "Epoch: 6400 Train loss: 0.0006487311 Test loss: 0.000570326\n",
      "Epoch: 6500 Train loss: 0.00061171176 Test loss: 0.0006381952\n",
      "Epoch: 6600 Train loss: 0.0005775625 Test loss: 0.0007236044\n",
      "Epoch: 6700 Train loss: 0.0005446525 Test loss: 0.00059139845\n",
      "Epoch: 6800 Train loss: 0.0006917472 Test loss: 0.00050669466\n",
      "Epoch: 6900 Train loss: 0.00083753467 Test loss: 0.0008391971\n",
      "Epoch: 7000 Train loss: 0.00045684408 Test loss: 0.0006449187\n",
      "Epoch: 7100 Train loss: 0.00041263152 Test loss: 0.0006422529\n",
      "Epoch: 7200 Train loss: 0.00079991645 Test loss: 0.0006066155\n",
      "Epoch: 7300 Train loss: 0.00043831553 Test loss: 0.00054131675\n",
      "Epoch: 7400 Train loss: 0.00080353057 Test loss: 0.0006982842\n",
      "Epoch: 7500 Train loss: 0.0007416263 Test loss: 0.00057843217\n",
      "Epoch: 7600 Train loss: 0.00077420135 Test loss: 0.0007171876\n",
      "Epoch: 7700 Train loss: 0.00040277248 Test loss: 0.00062231935\n",
      "Epoch: 7800 Train loss: 0.00056249416 Test loss: 0.0005507616\n",
      "Epoch: 7900 Train loss: 0.0006020002 Test loss: 0.000522766\n",
      "Epoch: 8000 Train loss: 0.0006739955 Test loss: 0.00090899324\n",
      "Epoch: 8100 Train loss: 0.00066900364 Test loss: 0.0007201574\n",
      "Epoch: 8200 Train loss: 0.0004463231 Test loss: 0.00090275815\n",
      "Epoch: 8300 Train loss: 0.0007907238 Test loss: 0.0008226948\n",
      "Epoch: 8400 Train loss: 0.000818405 Test loss: 0.0008386955\n",
      "Epoch: 8500 Train loss: 0.0003981684 Test loss: 0.0005205345\n",
      "Epoch: 8600 Train loss: 0.00047601803 Test loss: 0.0005218537\n",
      "Epoch: 8700 Train loss: 0.0005915377 Test loss: 0.00064258475\n",
      "Epoch: 8800 Train loss: 0.00089712016 Test loss: 0.0007364422\n",
      "Epoch: 8900 Train loss: 0.0007990737 Test loss: 0.000613066\n",
      "Epoch: 9000 Train loss: 0.0005939385 Test loss: 0.00042410186\n",
      "Epoch: 9100 Train loss: 0.0008101238 Test loss: 0.00058306823\n",
      "Epoch: 9200 Train loss: 0.000654483 Test loss: 0.0009123698\n",
      "Epoch: 9300 Train loss: 0.0005351966 Test loss: 0.0007237289\n",
      "Epoch: 9400 Train loss: 0.00077196053 Test loss: 0.0009153521\n",
      "Epoch: 9500 Train loss: 0.0006201555 Test loss: 0.0008253447\n",
      "Epoch: 9600 Train loss: 0.00078089465 Test loss: 0.00080451317\n",
      "Epoch: 9700 Train loss: 0.000730913 Test loss: 0.0006525033\n",
      "Epoch: 9800 Train loss: 0.0006050968 Test loss: 0.0006179455\n",
      "Epoch: 9900 Train loss: 0.0004578926 Test loss: 0.00085813\n",
      "Epoch: 10000 Train loss: 0.0005112978 Test loss: 0.00045957472\n",
      "end. \n"
     ]
    }
   ],
   "source": [
    "DBM.learn(gauss_iterator)"
   ]
  },
  {
   "cell_type": "markdown",
   "metadata": {},
   "source": [
    "Visualize reconstruction losses."
   ]
  },
  {
   "cell_type": "code",
   "execution_count": 9,
   "metadata": {},
   "outputs": [
    {
     "data": {
      "image/png": "[encoded data removed]",
      "text/plain": [
       "<Figure size 1440x720 with 1 Axes>"
      ]
     },
     "metadata": {
      "needs_background": "light"
     },
     "output_type": "display_data"
    }
   ],
   "source": [
    "import matplotlib.pyplot as plt\n",
    "%matplotlib inline\n",
    "\n",
    "def moving_avg(arr, window=100):\n",
    "    return np.convolve(arr, np.ones(window) / window, mode='same')[window:-window]\n",
    "\n",
    "plt.figure(figsize=(20, 10))\n",
    "plt.plot(moving_avg(DBM.loss_arr[:, 0]), label=\"Train Loss.\")\n",
    "plt.plot(moving_avg(DBM.loss_arr[:, 1]), label=\"Test Loss.\")\n",
    "plt.legend()\n",
    "plt.title(\"Losses.\")\n",
    "plt.show()"
   ]
  },
  {
   "cell_type": "markdown",
   "metadata": {},
   "source": [
    "Let the model observe the test data and extract the feature points to see."
   ]
  },
  {
   "cell_type": "code",
   "execution_count": 14,
   "metadata": {},
   "outputs": [],
   "source": [
    "test_arr = None\n",
    "for _, _, _test_arr, _ in gauss_iterator.generate_learned_samples():\n",
    "    test_arr = _test_arr\n",
    "    break"
   ]
  },
  {
   "cell_type": "code",
   "execution_count": 15,
   "metadata": {},
   "outputs": [],
   "source": [
    "_ = DBM.inference(test_arr)"
   ]
  },
  {
   "cell_type": "code",
   "execution_count": 13,
   "metadata": {},
   "outputs": [
    {
     "data": {
      "text/plain": [
       "\n",
       "[[0.53305787 0.5756622  0.53904593 ... 0.48379418 0.56888074 0.46843958]\n",
       " [0.52959603 0.5736565  0.5394453  ... 0.48382154 0.57105815 0.4689399 ]\n",
       " [0.5276896  0.5736581  0.54423493 ... 0.48047966 0.5716327  0.46266147]\n",
       " ...\n",
       " [0.52691394 0.5753328  0.5434538  ... 0.4846833  0.5685017  0.46859318]\n",
       " [0.5331989  0.5735092  0.541222   ... 0.47389784 0.5706038  0.46692663]\n",
       " [0.5271497  0.5720202  0.5430958  ... 0.48016372 0.5731069  0.46146354]]\n",
       "<NDArray 40x100 @gpu(0)>"
      ]
     },
     "execution_count": 13,
     "metadata": {},
     "output_type": "execute_result"
    }
   ],
   "source": [
    "DBM.rbm_list[0].feature_points_arr"
   ]
  },
  {
   "cell_type": "markdown",
   "metadata": {},
   "source": [
    "## For ML Ops.\n",
    "\n",
    "This model inherits [HybridBlock](https://gluon.mxnet.io/chapter07_distributed-learning/hybridize.html) from [mxnet.gluon](https://mxnet.incubator.apache.org/api/python/docs/api/gluon/index.html). Functions for common ML Ops such as saving and loading parameters are provided by [HybridBlock](https://mxnet.apache.org/api/python/docs/api/gluon/hybrid_block.html)."
   ]
  },
  {
   "cell_type": "markdown",
   "metadata": {},
   "source": [
    "# References\n",
    "\n",
    "- Ackley, D. H., Hinton, G. E., & Sejnowski, T. J. (1985). A learning algorithm for Boltzmann machines. Cognitive science, 9(1), 147-169.\n",
    "- Hinton, G. E. (2002). Training products of experts by minimizing contrastive divergence. Neural computation, 14(8), 1771-1800.\n",
    "- Le Roux, N., & Bengio, Y. (2008). Representational power of restricted Boltzmann machines and deep belief networks. Neural computation, 20(6), 1631-1649.\n",
    "- Salakhutdinov, R., & Hinton, G. E. (2009). Deep boltzmann machines. InInternational conference on artificial intelligence and statistics (pp. 448-455)."
   ]
  }
 ],
 "metadata": {
  "kernelspec": {
   "display_name": "Python 3",
   "language": "python",
   "name": "python3"
  },
  "language_info": {
   "codemirror_mode": {
    "name": "ipython",
    "version": 3
   },
   "file_extension": ".py",
   "mimetype": "text/x-python",
   "name": "python",
   "nbconvert_exporter": "python",
   "pygments_lexer": "ipython3",
   "version": "3.7.6"
  }
 },
 "nbformat": 4,
 "nbformat_minor": 2
}
