{
 "cells": [
  {
   "cell_type": "markdown",
   "metadata": {},
   "source": [
    "# Problem Setting: Representation Learning.\n",
    "\n",
    "This notebook demonstrates that the Convolutional Contractive Auto-Encoder can learn images and reconstruct its. Image dataset for this demo is the MNIST. The code of this notebook is written on the premise that the MNIST images are divided and arranged in directories for each label beforehand.\n",
    "\n",
    "## Problem Solution: Contractive Convolutional Auto-Encoder.\n",
    "\n",
    "A stack of Convolutional Auto-Encoder (Masci, J., et al., 2011) forms a convolutional neural network(CNN), which are among the most successful models for supervised image classification.  Each Convolutional Auto-Encoder is trained using conventional on-line gradient descent without additional regularization terms.\n",
    "\n",
    "In this library, Convolutional Auto-Encoder is also based on Encoder/Decoder scheme. The encoder is to the decoder what the Convolution is to the Deconvolution. The Deconvolution also called transposed convolutions \"work by swapping the forward and backward passes of a convolution.\" (Dumoulin, V., & Visin, F. 2016, p20.)\n",
    "\n",
    "The First-Order Contractive Auto-Encoder(Rifai, S., et al., 2011) executes the representation learning by adding a penalty term to the classical reconstruction cost function. This penalty term corresponds to the Frobenius norm of the Jacobian matrix of the encoder activations with respect to the input and results in a localized space contraction which in turn yields robust features on the activation layer. Analogically, the Contractive Convolutional Auto-Encoder calculates the penalty term. But it differs in that the operation of the deconvolution intervenes insted of inner product.\n",
    "\n",
    "### Modeling and Implementation.\n",
    "\n",
    "Firstly, import Python modules for building Contractive Convolutional Auto-Encoder."
   ]
  },
  {
   "cell_type": "code",
   "execution_count": 1,
   "metadata": {},
   "outputs": [],
   "source": [
    "from accelbrainbase.computableloss._mxnet.l2_norm_loss import L2NormLoss\n",
    "from accelbrainbase.extractabledata._mxnet.image_extractor import ImageExtractor\n",
    "from accelbrainbase.iteratabledata._mxnet.unlabeled_image_iterator import UnlabeledImageIterator\n",
    "from accelbrainbase.noiseabledata._mxnet.gauss_noise import GaussNoise\n",
    "from accelbrainbase.observabledata._mxnet.convolutional_neural_networks import ConvolutionalNeuralNetworks\n",
    "from accelbrainbase.observabledata._mxnet.convolutionalneuralnetworks.convolutionalautoencoder.contractive_cae import ContractiveCAE"
   ]
  },
  {
   "cell_type": "code",
   "execution_count": 3,
   "metadata": {},
   "outputs": [],
   "source": [
    "import mxnet as mx\n",
    "import mxnet.ndarray as nd\n",
    "import numpy as np\n",
    "import pandas as pd\n",
    "from mxnet.gluon.nn import Conv2D\n",
    "from mxnet.gluon.nn import Conv2DTranspose"
   ]
  },
  {
   "cell_type": "markdown",
   "metadata": {},
   "source": [
    "If you want to observe the learning log, set `getLogger`."
   ]
  },
  {
   "cell_type": "code",
   "execution_count": 2,
   "metadata": {},
   "outputs": [],
   "source": [
    "from logging import getLogger, StreamHandler, NullHandler, DEBUG, ERROR\n",
    "\n",
    "logger = getLogger(\"accelbrainbase\")\n",
    "handler = StreamHandler()\n",
    "handler.setLevel(DEBUG)\n",
    "logger.setLevel(DEBUG)\n",
    "logger.addHandler(handler)"
   ]
  },
  {
   "cell_type": "markdown",
   "metadata": {},
   "source": [
    "Build and initialize `ImageExtractor`, specifying parameters such as image size."
   ]
  },
  {
   "cell_type": "code",
   "execution_count": 4,
   "metadata": {},
   "outputs": [],
   "source": [
    "image_extractor = ImageExtractor(\n",
    "    # `int` of image width.\n",
    "    width=28,\n",
    "    # `int` of image height.\n",
    "    height=28,\n",
    "    # `int` of image channel.\n",
    "    channel=1,\n",
    "    # `mx.gpu()` or `mx.cpu()`.\n",
    "    ctx=mx.gpu()\n",
    ")"
   ]
  },
  {
   "cell_type": "markdown",
   "metadata": {},
   "source": [
    "Build and initialize `UnlabeledImageIterator`, delegating `image_extractor` and specifying parameters such as file path to image files."
   ]
  },
  {
   "cell_type": "code",
   "execution_count": 5,
   "metadata": {},
   "outputs": [],
   "source": [
    "unlabeled_image_iterator = UnlabeledImageIterator(\n",
    "    # is-a `ImageExtractor`.\n",
    "    image_extractor=image_extractor,\n",
    "    # `list` of paths to image files in learning.\n",
    "    dir_list=[\n",
    "        \"../../../../Downloads/digit-recognizer/train/0/\", \n",
    "        \"../../../../Downloads/digit-recognizer/train/1/\", \n",
    "        \"../../../../Downloads/digit-recognizer/train/2/\", \n",
    "        \"../../../../Downloads/digit-recognizer/train/3/\", \n",
    "        \"../../../../Downloads/digit-recognizer/train/4/\", \n",
    "        \"../../../../Downloads/digit-recognizer/train/5/\", \n",
    "        \"../../../../Downloads/digit-recognizer/train/6/\", \n",
    "        \"../../../../Downloads/digit-recognizer/train/7/\", \n",
    "        \"../../../../Downloads/digit-recognizer/train/8/\", \n",
    "        \"../../../../Downloads/digit-recognizer/train/9/\", \n",
    "    ],\n",
    "    # `list` of paths to image files in test.\n",
    "    test_dir_list=[\n",
    "        \"../../../../Downloads/digit-recognizer/test/0/\", \n",
    "        \"../../../../Downloads/digit-recognizer/test/1/\", \n",
    "        \"../../../../Downloads/digit-recognizer/test/2/\", \n",
    "        \"../../../../Downloads/digit-recognizer/test/3/\", \n",
    "        \"../../../../Downloads/digit-recognizer/test/4/\", \n",
    "        \"../../../../Downloads/digit-recognizer/test/5/\", \n",
    "        \"../../../../Downloads/digit-recognizer/test/6/\", \n",
    "        \"../../../../Downloads/digit-recognizer/test/7/\", \n",
    "        \"../../../../Downloads/digit-recognizer/test/8/\", \n",
    "        \"../../../../Downloads/digit-recognizer/test/9/\", \n",
    "    ],\n",
    "    # `int` of epochs.\n",
    "    epochs=1000,\n",
    "    # `int` of batch size.\n",
    "    batch_size=40,\n",
    "    # How to normalize pixel values of images.\n",
    "    # - `z_score`: Z-Score normalization.\n",
    "    # - `min_max`: Min-max normalization.\n",
    "    # - others : This class will not normalize the data.\n",
    "    norm_mode=\"z_score\",\n",
    "    # `float` of scaling factor for data.\n",
    "    scale=1.0,\n",
    "    # is-a `NoiseableData`.\n",
    "    noiseable_data=GaussNoise(sigma=1e-03, mu=0.0),\n",
    ")"
   ]
  },
  {
   "cell_type": "markdown",
   "metadata": {},
   "source": [
    "Build and initialize loss function."
   ]
  },
  {
   "cell_type": "code",
   "execution_count": 6,
   "metadata": {},
   "outputs": [],
   "source": [
    "computable_loss = L2NormLoss()"
   ]
  },
  {
   "cell_type": "markdown",
   "metadata": {},
   "source": [
    "Build and initialize `ConvolutionalNeuralNetworks` as an encoder."
   ]
  },
  {
   "cell_type": "code",
   "execution_count": 7,
   "metadata": {},
   "outputs": [],
   "source": [
    "encoder = ConvolutionalNeuralNetworks(\n",
    "    # is-a `ComputableLoss` or `mxnet.gluon.loss`.\n",
    "    computable_loss=computable_loss,\n",
    "    # `list` of int` of the number of units in hidden layers.\n",
    "    hidden_units_list=[\n",
    "        # `mxnet.gluon.nn.Conv2D`.\n",
    "        Conv2D(\n",
    "            channels=16,\n",
    "            kernel_size=6,\n",
    "            strides=(2, 2),\n",
    "            padding=(1, 1),\n",
    "        ), \n",
    "        Conv2D(\n",
    "            channels=32,\n",
    "            kernel_size=3,\n",
    "            strides=(1, 1),\n",
    "            padding=(1, 1),\n",
    "        ),\n",
    "    ],\n",
    "    # `list` of act_type` in `mxnet.ndarray.Activation` or `mxnet.symbol.Activation` in input gate.\n",
    "    hidden_activation_list=[\"relu\", \"relu\"],\n",
    "    # `list` of `float` of dropout rate.\n",
    "    hidden_dropout_rate_list=[0.0, 0.0],\n",
    "    # `list` of `mxnet.gluon.nn.BatchNorm`.\n",
    "    hidden_batch_norm_list=[BatchNorm(), BatchNorm()],\n",
    "    # Call `mxnet.gluon.HybridBlock.hybridize()` or not.\n",
    "    hybridize_flag=True,\n",
    "    # `mx.gpu()` or `mx.cpu()`.\n",
    "    ctx=mx.gpu(),\n",
    ")"
   ]
  },
  {
   "cell_type": "markdown",
   "metadata": {},
   "source": [
    "Build and initialize `ConvolutionalNeuralNetworks` as a decoder."
   ]
  },
  {
   "cell_type": "code",
   "execution_count": 8,
   "metadata": {},
   "outputs": [],
   "source": [
    "decoder = ConvolutionalNeuralNetworks(\n",
    "    # is-a `ComputableLoss` or `mxnet.gluon.loss`.\n",
    "    computable_loss=computable_loss,\n",
    "    # `list` of int` of the number of units in hidden layers.\n",
    "    hidden_units_list=[\n",
    "        # `mxnet.gluon.nn.Conv2DTranspose`.\n",
    "        Conv2DTranspose(\n",
    "            channels=16,\n",
    "            kernel_size=3,\n",
    "            strides=(1, 1),\n",
    "            padding=(1, 1),\n",
    "        ), \n",
    "        Conv2DTranspose(\n",
    "            channels=1,\n",
    "            kernel_size=6,\n",
    "            strides=(2, 2),\n",
    "            padding=(1, 1),\n",
    "        ),\n",
    "    ],\n",
    "    # `list` of act_type` in `mxnet.ndarray.Activation` or `mxnet.symbol.Activation` in input gate.\n",
    "    hidden_activation_list=[\"relu\", \"identity\"],\n",
    "    # `list` of `float` of dropout rate.\n",
    "    hidden_dropout_rate_list=[0.0, 0.0],\n",
    "    # `list` of `mxnet.gluon.nn.BatchNorm`.\n",
    "    hidden_batch_norm_list=[BatchNorm(), None],\n",
    "    # Call `mxnet.gluon.HybridBlock.hybridize()` or not.\n",
    "    hybridize_flag=True,\n",
    "    # `mx.gpu()` or `mx.cpu()`.\n",
    "    ctx=mx.gpu(),\n",
    ")"
   ]
  },
  {
   "cell_type": "markdown",
   "metadata": {},
   "source": [
    "Build and initialize `ContractiveCAE`, delegating `encoder` and `decoder`."
   ]
  },
  {
   "cell_type": "code",
   "execution_count": 9,
   "metadata": {},
   "outputs": [],
   "source": [
    "CAE = ContractiveCAE(\n",
    "    # is-a `ConvolutionalNeuralNetworks`.\n",
    "    encoder=encoder,\n",
    "    # is-a `ConvolutionalNeuralNetworks`.\n",
    "    decoder=decoder,\n",
    "    # is-a `ComputableLoss` or `mxnet.gluon.loss`.\n",
    "    computable_loss=computable_loss,\n",
    "    # is-a `mxnet.initializer` for parameters of model. If `None`, it is drawing from the Xavier distribution.\n",
    "    initializer=None,\n",
    "    # `float` of learning rate.\n",
    "    learning_rate=1e-03,\n",
    "    # `float` of attenuate the `learning_rate` by a factor of this value every `attenuate_epoch`.\n",
    "    learning_attenuate_rate=1.0,\n",
    "    # `int` of attenuate the `learning_rate` by a factor of `learning_attenuate_rate` every `attenuate_epoch`.\n",
    "    attenuate_epoch=50,\n",
    "    # `bool` of flag to tied weights or not.\n",
    "    tied_weights_flag=True,\n",
    "    # `str` of name of optimizer.\n",
    "    optimizer_name=\"SGD\",\n",
    "    # Call `mxnet.gluon.HybridBlock.hybridize()` or not.\n",
    "    hybridize_flag=True,\n",
    "    # `mx.gpu()` or `mx.cpu()`.\n",
    "    ctx=mx.gpu(),\n",
    ")"
   ]
  },
  {
   "cell_type": "markdown",
   "metadata": {},
   "source": [
    "Start learning."
   ]
  },
  {
   "cell_type": "code",
   "execution_count": 10,
   "metadata": {},
   "outputs": [
    {
     "name": "stderr",
     "output_type": "stream",
     "text": [
      "Epochs: 100 Train loss: 2.4184165 Test loss: 2.3194222\n",
      "Epochs: 200 Train loss: 1.7903621 Test loss: 2.179392\n",
      "Epochs: 300 Train loss: 1.0984387 Test loss: 1.088414\n",
      "Epochs: 400 Train loss: 0.48568535 Test loss: 0.46245012\n",
      "Epochs: 500 Train loss: 0.383188 Test loss: 0.41514102\n",
      "Epochs: 600 Train loss: 0.36011934 Test loss: 0.39598727\n",
      "Epochs: 700 Train loss: 0.3166284 Test loss: 0.35092038\n",
      "Epochs: 800 Train loss: 0.34309593 Test loss: 0.33221078\n",
      "Epochs: 900 Train loss: 0.34223133 Test loss: 0.32924756\n",
      "Epochs: 1000 Train loss: 0.32613155 Test loss: 0.29140583\n",
      "end. \n"
     ]
    }
   ],
   "source": [
    "CAE.learn(unlabeled_image_iterator)"
   ]
  },
  {
   "cell_type": "markdown",
   "metadata": {},
   "source": [
    "Visualize reconstruction losses."
   ]
  },
  {
   "cell_type": "code",
   "execution_count": 11,
   "metadata": {},
   "outputs": [
    {
     "data": {
      "image/png": "[encoded data removed]",
      "text/plain": [
       "<Figure size 1440x720 with 1 Axes>"
      ]
     },
     "metadata": {
      "needs_background": "light"
     },
     "output_type": "display_data"
    }
   ],
   "source": [
    "import matplotlib.pyplot as plt\n",
    "%matplotlib inline\n",
    "\n",
    "def moving_avg(arr, window=50):\n",
    "    return np.convolve(arr, np.ones(window) / window, mode='same')[window:-window]\n",
    "\n",
    "plt.figure(figsize=(20, 10))\n",
    "plt.plot(moving_avg(CAE.loss_arr[:, 0]), label=\"Train Loss.\")\n",
    "plt.plot(moving_avg(CAE.loss_arr[:, 1]), label=\"Test Loss.\")\n",
    "plt.legend()\n",
    "plt.title(\"Losses.\")\n",
    "plt.show()"
   ]
  },
  {
   "cell_type": "markdown",
   "metadata": {},
   "source": [
    "You can observe reconstructed images as follows."
   ]
  },
  {
   "cell_type": "code",
   "execution_count": 12,
   "metadata": {},
   "outputs": [],
   "source": [
    "test_arr = None\n",
    "for _, _, _test_arr, _ in unlabeled_image_iterator.generate_learned_samples():\n",
    "    test_arr = _test_arr\n",
    "    break"
   ]
  },
  {
   "cell_type": "code",
   "execution_count": 13,
   "metadata": {},
   "outputs": [],
   "source": [
    "inferenced_arr = CAE.inference(test_arr)"
   ]
  },
  {
   "cell_type": "code",
   "execution_count": 14,
   "metadata": {},
   "outputs": [
    {
     "data": {
      "image/png": "[encoded data removed]",
      "text/plain": [
       "<Figure size 432x288 with 1 Axes>"
      ]
     },
     "metadata": {
      "needs_background": "light"
     },
     "output_type": "display_data"
    },
    {
     "data": {
      "image/png": "[encoded data removed]",
      "text/plain": [
       "<Figure size 432x288 with 1 Axes>"
      ]
     },
     "metadata": {
      "needs_background": "light"
     },
     "output_type": "display_data"
    }
   ],
   "source": [
    "plt.imshow(test_arr[0].asnumpy().reshape(28, 28), cmap=\"gray\")\n",
    "plt.show()\n",
    "\n",
    "plt.imshow(inferenced_arr[0].asnumpy().reshape(28, 28), cmap=\"gray\")\n",
    "plt.show()"
   ]
  },
  {
   "cell_type": "markdown",
   "metadata": {},
   "source": [
    "**Note** that it is more important not to confirm the reconstructed image, but to confirm that the feature points obtained by representation learning are not excessive information loss, information overload, or noisy state.\n",
    "\n",
    "You can also check the feature points as follows."
   ]
  },
  {
   "cell_type": "code",
   "execution_count": 15,
   "metadata": {},
   "outputs": [
    {
     "data": {
      "image/png": "[encoded data removed]",
      "text/plain": [
       "<Figure size 432x288 with 1 Axes>"
      ]
     },
     "metadata": {
      "needs_background": "light"
     },
     "output_type": "display_data"
    }
   ],
   "source": [
    "plt.imshow(CAE.feature_points_arr[0].asnumpy().mean(axis=0), cmap=\"gray\")\n",
    "plt.show()"
   ]
  },
  {
   "cell_type": "markdown",
   "metadata": {},
   "source": [
    "## For ML Ops.\n",
    "\n",
    "This model inherits [HybridBlock](https://gluon.mxnet.io/chapter07_distributed-learning/hybridize.html) from [mxnet.gluon](https://mxnet.incubator.apache.org/api/python/docs/api/gluon/index.html). Functions for common ML Ops such as saving and loading parameters are provided by [HybridBlock](https://mxnet.apache.org/api/python/docs/api/gluon/hybrid_block.html)."
   ]
  },
  {
   "cell_type": "markdown",
   "metadata": {},
   "source": [
    "# References\n",
    "\n",
    "- Dumoulin, V., & V,kisin, F. (2016). A guide to convolution arithmetic for deep learning. arXiv preprint arXiv:1603.07285.\n",
    "- Kamyshanska, H., & Memisevic, R. (2014). The potential energy of an autoencoder. IEEE transactions on pattern analysis and machine intelligence, 37(6), 1261-1273.\n",
    "- Masci, J., Meier, U., Cireşan, D., & Schmidhuber, J. (2011, June). Stacked convolutional auto-encoders for hierarchical feature extraction. In International Conference on Artificial Neural Networks (pp. 52-59). Springer, Berlin, Heidelberg.\n",
    "- Rifai, S., Vincent, P., Muller, X., Glorot, X., & Bengio, Y. (2011, June). Contractive auto-encoders: Explicit invariance during feature extraction. In Proceedings of the 28th International Conference on International Conference on Machine Learning (pp. 833-840). Omnipress.\n",
    "- Rifai, S., Mesnil, G., Vincent, P., Muller, X., Bengio, Y., Dauphin, Y., & Glorot, X. (2011, September). Higher order contractive auto-encoder. In Joint European Conference on Machine Learning and Knowledge Discovery in Databases (pp. 645-660). Springer, Berlin, Heidelberg."
   ]
  }
 ],
 "metadata": {
  "kernelspec": {
   "display_name": "Python 3",
   "language": "python",
   "name": "python3"
  },
  "language_info": {
   "codemirror_mode": {
    "name": "ipython",
    "version": 3
   },
   "file_extension": ".py",
   "mimetype": "text/x-python",
   "name": "python",
   "nbconvert_exporter": "python",
   "pygments_lexer": "ipython3",
   "version": "3.7.6"
  }
 },
 "nbformat": 4,
 "nbformat_minor": 2
}
