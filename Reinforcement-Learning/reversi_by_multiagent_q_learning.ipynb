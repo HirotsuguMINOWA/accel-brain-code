{
 "cells": [
  {
   "cell_type": "markdown",
   "metadata": {},
   "source": [
    "# Problem Setting: Reversi.\n",
    "\n",
    "<a name=\"h1_1\"></a>\n",
    "\n",
    "This notebook demonstrates a Multi-agent Q-Learning to solve Reversi. Reversi is a board game for two players, played on an $8 \\times 8$ uncheckered board. First of all, the board must be generated. Here let's express it using `numpy.ndarray`."
   ]
  },
  {
   "cell_type": "code",
   "execution_count": 1,
   "metadata": {},
   "outputs": [
    {
     "data": {
      "text/plain": [
       "array([[ 0,  0,  0,  0,  0,  0,  0,  0],\n",
       "       [ 0,  0,  0,  0,  0,  0,  0,  0],\n",
       "       [ 0,  0,  0,  0,  0,  0,  0,  0],\n",
       "       [ 0,  0,  0,  1, -1,  0,  0,  0],\n",
       "       [ 0,  0,  0, -1,  1,  0,  0,  0],\n",
       "       [ 0,  0,  0,  0,  0,  0,  0,  0],\n",
       "       [ 0,  0,  0,  0,  0,  0,  0,  0],\n",
       "       [ 0,  0,  0,  0,  0,  0,  0,  0]])"
      ]
     },
     "execution_count": 1,
     "metadata": {},
     "output_type": "execute_result"
    }
   ],
   "source": [
    "import numpy as np\n",
    "map_arr = np.zeros((8, 8)).astype(int)\n",
    "map_arr[3, 3] = 1\n",
    "map_arr[4, 4] = 1\n",
    "map_arr[3, 4] = -1\n",
    "map_arr[4, 3] = -1\n",
    "map_arr"
   ]
  },
  {
   "cell_type": "markdown",
   "metadata": {},
   "source": [
    "Even if you use `matplotlib` and `seaborn`, you can draw images similar to Reversi's board as it is."
   ]
  },
  {
   "cell_type": "code",
   "execution_count": 3,
   "metadata": {},
   "outputs": [
    {
     "data": {
      "text/plain": [
       "<matplotlib.axes._subplots.AxesSubplot at 0x71afb7fe9cf8>"
      ]
     },
     "execution_count": 3,
     "metadata": {},
     "output_type": "execute_result"
    },
    {
     "data": {
      "image/png": "[encoded data removed]",
      "text/plain": [
       "<matplotlib.figure.Figure at 0x71aff8257320>"
      ]
     },
     "metadata": {},
     "output_type": "display_data"
    }
   ],
   "source": [
    "import matplotlib.pyplot as plt\n",
    "import seaborn as sns\n",
    "from PIL import Image\n",
    "fig = plt.figure(figsize=(8, 7))\n",
    "sns.heatmap(\n",
    "    map_arr, \n",
    "    linewidths=.5, \n",
    "    cmap=\"gist_earth\", \n",
    "    cbar=False, \n",
    "    linecolor=\"black\"\n",
    ")\n"
   ]
  },
  {
   "cell_type": "markdown",
   "metadata": {},
   "source": [
    "In this matrix, `+1` means white and `-1` means black."
   ]
  },
  {
   "cell_type": "markdown",
   "metadata": {},
   "source": [
    "## Problem solution: Multi-agent epsilon greedy Q-Learning.\n",
    "\n",
    "I implemented `ReversiGreedyQLearning` which is-a `GreedyQLearning` by a rush. In this object, an agent observes the board as own state. The agent's action can be selected by this state.\n",
    "\n",
    "`ReversiGreedyQLearning` has a `evaluate_map_list`. This value means a score matrix when placing a stone at each coordinate. When agents observe reward, Q-Learning algorithm evaluates reward points by this matrix. The reward function is as following:\n",
    "\n",
    "$$r^{(t)} = \\frac{\\sum_{x=0}^{7}\\sum_{y=0}^{7} M^{t}_{(x, y)}}{\\sum_{x=0}^{7}\\sum_{y=0}^{7} M^{(t-1)}_{(x, y)}} (t = 1, 2, 3, ..., T)$$\n",
    "\n",
    "where $t$ is a Monte Carlo step or time step. $M^{t}_{(x, y)}$ is a score in $x$ and $y$ coordinates at time $t$. So $r^{(t)}$ is a change rate of the score."
   ]
  },
  {
   "cell_type": "markdown",
   "metadata": {},
   "source": [
    "Although Reversi is two players game, a behavior of `ReversiGreedyQLearning` can be corresponded to one agent. Then you have to instantiate two objects of `ReversiGreedyQLearning`."
   ]
  },
  {
   "cell_type": "code",
   "execution_count": 4,
   "metadata": {},
   "outputs": [],
   "source": [
    "from devsample.reversi_greedy_q_learning import ReversiGreedyQLearning\n",
    "\n",
    "white_player = ReversiGreedyQLearning(color=1)\n",
    "black_player = ReversiGreedyQLearning(color=-1)\n",
    "\n",
    "white_player.epsilon_greedy_rate = 0.7\n",
    "black_player.epsilon_greedy_rate = 0.7"
   ]
  },
  {
   "cell_type": "markdown",
   "metadata": {},
   "source": [
    "And then, I implemented `AlternatedMultiAgent` which is-a `MultiAgentQLearning` by a rush. `MultiAgentQLearning` is a template method to implement a controller for the Multi-Agent Q-Learning. `AlternatedMultiAgent` is a concrete class for an alternating learning, which can be described that each agent searchs optimal policy observing the enemy player's action. In other words, each agent's state can be transitioned to next state that corresponding to enemy player's action."
   ]
  },
  {
   "cell_type": "code",
   "execution_count": null,
   "metadata": {},
   "outputs": [
    {
     "name": "stderr",
     "output_type": "stream",
     "text": [
      "/usr/local/bin/.pyenv/versions/anaconda3-5.1.0/lib/python3.6/site-packages/pandas/core/algorithms.py:410: FutureWarning: elementwise comparison failed; returning scalar instead, but in the future will perform elementwise comparison\n",
      "  f = lambda x, y: htable.ismember_object(x, values)\n"
     ]
    }
   ],
   "source": [
    "from pyqlearning.multiagentqlearning.alternated_multi_agent import AlternatedMultiAgent\n",
    "\n",
    "multi_agent_q_learning = AlternatedMultiAgent(\n",
    "    q_learning_list=[white_player, black_player]\n",
    ")\n",
    "\n",
    "multi_agent_q_learning.learn(first_state_key=map_arr, limit=80, game_n=300)"
   ]
  },
  {
   "cell_type": "markdown",
   "metadata": {},
   "source": [
    "Let's visible the result of Multi-Agent learning."
   ]
  },
  {
   "cell_type": "code",
   "execution_count": null,
   "metadata": {},
   "outputs": [],
   "source": [
    "import matplotlib.pyplot as plt\n",
    "import seaborn as sns\n",
    "from PIL import Image\n",
    "\n",
    "for i in range(80):\n",
    "    fig = plt.figure(figsize=(8, 7))\n",
    "    sns.heatmap(\n",
    "        multi_agent_q_learning.state_key_list[i], \n",
    "        linewidths=.5, \n",
    "        cmap=\"gist_earth\", \n",
    "        cbar=False, \n",
    "        linecolor=\"black\"\n",
    "    )\n",
    "    plt.savefig(\"/tmp/reversi_\" + str(i) + \".png\");plt.close()\n"
   ]
  },
  {
   "cell_type": "code",
   "execution_count": null,
   "metadata": {},
   "outputs": [],
   "source": [
    "first_img = Image.open(\"/tmp/reversi_0.png\")\n",
    "img_list = []\n",
    "for i in range(1, 80):\n",
    "    img = Image.open(\"/tmp/reversi_\" + str(i) + \".png\")\n",
    "    img_list.append(img)\n",
    "    \n",
    "first_img.save(\n",
    "    'reversi.gif', \n",
    "    save_all=True, \n",
    "    append_images=img_list,\n",
    "    optimized=True, \n",
    "    duration=40, \n",
    "    loop=0\n",
    ")"
   ]
  },
  {
   "cell_type": "code",
   "execution_count": null,
   "metadata": {},
   "outputs": [],
   "source": [
    "Image.open(\"reversi.gif\")"
   ]
  },
  {
   "cell_type": "code",
   "execution_count": null,
   "metadata": {},
   "outputs": [],
   "source": [
    "white_player_2 = ReversiGreedyQLearning(color=1)\n",
    "black_player_2 = ReversiGreedyQLearning(color=-1)\n",
    "\n",
    "black_player_2.r_df = multi_agent_q_learning.q_learning_list[0].r_df\n",
    "white_player_2.r_df = multi_agent_q_learning.q_learning_list[1].r_df\n",
    "black_player_2.q_df = multi_agent_q_learning.q_learning_list[0].q_df\n",
    "white_player_2.q_df = multi_agent_q_learning.q_learning_list[1].q_df"
   ]
  },
  {
   "cell_type": "code",
   "execution_count": null,
   "metadata": {},
   "outputs": [],
   "source": [
    "multi_agent_q_learning_2 = MultiAgentQLearning(\n",
    "    q_learning_list=[white_player_2, black_player_2]\n",
    ")\n",
    "multi_agent_q_learning_2.state_key_list = []\n",
    "multi_agent_q_learning_2.learn(first_state_key=map_arr, limit=40, game_n=5)"
   ]
  },
  {
   "cell_type": "code",
   "execution_count": null,
   "metadata": {},
   "outputs": [],
   "source": [
    "import matplotlib.pyplot as plt\n",
    "import seaborn as sns\n",
    "from PIL import Image\n",
    "\n",
    "for i in range(80):\n",
    "    fig = plt.figure(figsize=(8, 7))\n",
    "    sns.heatmap(\n",
    "        multi_agent_q_learning_2.state_key_list[i], \n",
    "        linewidths=.5, \n",
    "        cmap=\"gist_earth\", \n",
    "        cbar=False, \n",
    "        linecolor=\"black\"\n",
    "    )\n",
    "    plt.savefig(\"/tmp/reversi_t_\" + str(i) + \".png\");plt.close()\n",
    "\n",
    "first_img = Image.open(\"/tmp/reversi_t_0.png\")\n",
    "img_list = []\n",
    "for i in range(1, 100):\n",
    "    img = Image.open(\"/tmp/reversi_t_\" + str(i) + \".png\")\n",
    "    img_list.append(img)\n",
    "    \n",
    "first_img.save(\n",
    "    'reversi_t.gif', \n",
    "    save_all=True, \n",
    "    append_images=img_list,\n",
    "    optimized=True, \n",
    "    duration=40, \n",
    "    loop=0\n",
    ")\n",
    "Image.open(\"reversi_t.gif\")"
   ]
  }
 ],
 "metadata": {
  "kernelspec": {
   "display_name": "Python 3",
   "language": "python",
   "name": "python3"
  },
  "language_info": {
   "codemirror_mode": {
    "name": "ipython",
    "version": 3
   },
   "file_extension": ".py",
   "mimetype": "text/x-python",
   "name": "python",
   "nbconvert_exporter": "python",
   "pygments_lexer": "ipython3",
   "version": "3.6.4"
  }
 },
 "nbformat": 4,
 "nbformat_minor": 2
}
