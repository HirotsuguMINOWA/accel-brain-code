{
 "cells": [
  {
   "cell_type": "markdown",
   "metadata": {},
   "source": [
    "# Problem Setting: Reversi.\n",
    "\n",
    "<a name=\"h1_1\"></a>\n",
    "\n",
    "This notebook demonstrates a Multi-agent Q-Learning to solve Reversi. Reversi is a board game for two players, played on an $8 \\times 8$ uncheckered board. First of all, the board must be generated. Here let's express it using `numpy.ndarray`."
   ]
  },
  {
   "cell_type": "code",
   "execution_count": 1,
   "metadata": {},
   "outputs": [
    {
     "data": {
      "text/plain": [
       "array([[ 0,  0,  0,  0,  0,  0,  0,  0],\n",
       "       [ 0,  0,  0,  0,  0,  0,  0,  0],\n",
       "       [ 0,  0,  0,  0,  0,  0,  0,  0],\n",
       "       [ 0,  0,  0,  1, -1,  0,  0,  0],\n",
       "       [ 0,  0,  0, -1,  1,  0,  0,  0],\n",
       "       [ 0,  0,  0,  0,  0,  0,  0,  0],\n",
       "       [ 0,  0,  0,  0,  0,  0,  0,  0],\n",
       "       [ 0,  0,  0,  0,  0,  0,  0,  0]])"
      ]
     },
     "execution_count": 1,
     "metadata": {},
     "output_type": "execute_result"
    }
   ],
   "source": [
    "import numpy as np\n",
    "map_arr = np.zeros((8, 8)).astype(int)\n",
    "map_arr[3, 3] = 1\n",
    "map_arr[4, 4] = 1\n",
    "map_arr[3, 4] = -1\n",
    "map_arr[4, 3] = -1\n",
    "map_arr"
   ]
  },
  {
   "cell_type": "markdown",
   "metadata": {},
   "source": [
    "Even if you use `matplotlib` and `seaborn`, you can draw images similar to Reversi's board as it is."
   ]
  },
  {
   "cell_type": "code",
   "execution_count": 3,
   "metadata": {},
   "outputs": [
    {
     "data": {
      "image/png": "[encoded data removed]",
      "text/plain": [
       "<matplotlib.figure.Figure at 0x766d66894320>"
      ]
     },
     "metadata": {},
     "output_type": "display_data"
    }
   ],
   "source": [
    "import matplotlib.pyplot as plt\n",
    "import seaborn as sns\n",
    "from PIL import Image\n",
    "fig = plt.figure(figsize=(8, 8))\n",
    "sns.heatmap(\n",
    "    map_arr, \n",
    "    linewidths=.5, \n",
    "    cmap=\"gist_earth\", \n",
    "    cbar=False, \n",
    "    linecolor=\"black\"\n",
    ")\n",
    "plt.show()\n",
    "plt.close()"
   ]
  },
  {
   "cell_type": "markdown",
   "metadata": {},
   "source": [
    "In this matrix, `+1` means white and `-1` means black."
   ]
  },
  {
   "cell_type": "markdown",
   "metadata": {},
   "source": [
    "The players place their disks alternately and the agents observe the rewards corresponded to position of their disks. The relationship between the location of the disks and the rewards is defined by the following matrix."
   ]
  },
  {
   "cell_type": "code",
   "execution_count": 6,
   "metadata": {},
   "outputs": [
    {
     "data": {
      "image/png": "[encoded data removed]",
      "text/plain": [
       "<matplotlib.figure.Figure at 0x766d665a0cc0>"
      ]
     },
     "metadata": {},
     "output_type": "display_data"
    }
   ],
   "source": [
    "evaluate_map_arr = np.array([\n",
    "    [120,-20, 20,  5,  5, 20,-20,120],\n",
    "    [-20,-40, -5, -5, -5, -5,-40,-20],\n",
    "    [ 20, -5, 15,  3,  3, 15, -5, 20],\n",
    "    [  5, -5,  3,  3,  3,  3, -5,  5],\n",
    "    [  5, -5,  3,  3,  3,  3, -5,  5],\n",
    "    [ 20, -5, 15,  3,  3, 15, -5, 20],\n",
    "    [-20,-40, -5, -5, -5, -5,-40,-20],\n",
    "    [120,-20, 20,  5,  5, 20,-20,120]\n",
    "])\n",
    "evaluate_map_arr = (evaluate_map_arr - evaluate_map_arr.min()) / (evaluate_map_arr.max() - evaluate_map_arr.min())\n",
    "\n",
    "fig = plt.figure(figsize=(8, 8))\n",
    "sns.heatmap(\n",
    "    evaluate_map_arr, \n",
    "    linewidths=.5, \n",
    "    linecolor=\"black\"\n",
    ")\n",
    "plt.show()\n",
    "plt.close()"
   ]
  },
  {
   "cell_type": "markdown",
   "metadata": {},
   "source": [
    "I implemented `ReversiGreedyQLearning` by a rush. This class defines an agent's behavior in playing games. Although Reversi is two players game, a behavior of `ReversiGreedyQLearning` can be corresponded to one agent. Then you have to instantiate two objects of `ReversiGreedyQLearning`."
   ]
  },
  {
   "cell_type": "code",
   "execution_count": 7,
   "metadata": {},
   "outputs": [],
   "source": [
    "from devsample.reversi_greedy_q_learning import ReversiGreedyQLearning\n",
    "\n",
    "white_player = ReversiGreedyQLearning(color=1)\n",
    "black_player = ReversiGreedyQLearning(color=-1)\n",
    "\n",
    "white_player.evaluate_map_arr = evaluate_map_arr\n",
    "black_player.evaluate_map_arr = evaluate_map_arr\n",
    "\n",
    "white_player.epsilon_greedy_rate = 0.8\n",
    "black_player.epsilon_greedy_rate = 0.8"
   ]
  },
  {
   "cell_type": "markdown",
   "metadata": {},
   "source": [
    "And then, I implemented `AlternatedMultiAgent` which is-a `MultiAgentQLearning`. This class is a template method to implement a controller for the Multi-Agent Q-Learning. `AlternatedMultiAgent` is a concrete class for an alternating learning, which can be described that each agent searchs optimal policy observing the enemy player's action. In other words, each agent's state can be transitioned to next state that corresponding to enemy player's action."
   ]
  },
  {
   "cell_type": "code",
   "execution_count": 8,
   "metadata": {},
   "outputs": [],
   "source": [
    "from pyqlearning.multiagentqlearning.alternated_multi_agent import AlternatedMultiAgent\n",
    "\n",
    "multi_agent_q_learning = AlternatedMultiAgent(\n",
    "    q_learning_list=[white_player, black_player]\n",
    ")\n",
    "\n",
    "multi_agent_q_learning.learn(first_state_key=map_arr.copy(), limit=80, game_n=300)"
   ]
  },
  {
   "cell_type": "markdown",
   "metadata": {},
   "source": [
    "Let's visible the result of Multi-Agent learning."
   ]
  },
  {
   "cell_type": "code",
   "execution_count": 9,
   "metadata": {},
   "outputs": [
    {
     "data": {
      "image/png": "[encoded data removed]",
      "text/plain": [
       "<matplotlib.figure.Figure at 0x766d66542cf8>"
      ]
     },
     "metadata": {},
     "output_type": "display_data"
    }
   ],
   "source": [
    "fig = plt.figure(figsize=(8, 8))\n",
    "sns.heatmap(\n",
    "    multi_agent_q_learning.state_key_list[-1], \n",
    "    linewidths=.5, \n",
    "    cmap=\"gist_earth\", \n",
    "    cbar=False, \n",
    "    linecolor=\"black\"\n",
    ")\n",
    "plt.show()\n",
    "plt.close()"
   ]
  },
  {
   "cell_type": "code",
   "execution_count": 10,
   "metadata": {},
   "outputs": [],
   "source": [
    "import matplotlib.pyplot as plt\n",
    "import seaborn as sns\n",
    "from PIL import Image\n",
    "\n",
    "for i in range(80):\n",
    "    fig = plt.figure(figsize=(8, 8))\n",
    "    sns.heatmap(\n",
    "        multi_agent_q_learning.state_key_list[i], \n",
    "        linewidths=.5, \n",
    "        cmap=\"gist_earth\", \n",
    "        cbar=False, \n",
    "        linecolor=\"black\"\n",
    "    )\n",
    "    plt.savefig(\"/tmp/reversi_\" + str(i) + \".png\");plt.close()\n",
    "\n",
    "first_img = Image.open(\"/tmp/reversi_0.png\")\n",
    "img_list = []\n",
    "for i in range(1, 80):\n",
    "    img = Image.open(\"/tmp/reversi_\" + str(i) + \".png\")\n",
    "    img_list.append(img)\n",
    "    \n",
    "first_img.save(\n",
    "    'reversi.gif', \n",
    "    save_all=True, \n",
    "    append_images=img_list,\n",
    "    optimized=True, \n",
    "    duration=40, \n",
    "    loop=0\n",
    ")"
   ]
  },
  {
   "cell_type": "code",
   "execution_count": 11,
   "metadata": {},
   "outputs": [
    {
     "data": {
      "image/png": "[encoded data removed]",
      "text/plain": [
       "<PIL.GifImagePlugin.GifImageFile image mode=P size=576x576 at 0x766D664E9F28>"
      ]
     },
     "execution_count": 11,
     "metadata": {},
     "output_type": "execute_result"
    }
   ],
   "source": [
    "Image.open(\"reversi.gif\")"
   ]
  },
  {
   "cell_type": "markdown",
   "metadata": {},
   "source": [
    "By *transfer learning*, let's start the game again with different agents."
   ]
  },
  {
   "cell_type": "code",
   "execution_count": 12,
   "metadata": {},
   "outputs": [],
   "source": [
    "white_player_2 = ReversiGreedyQLearning(color=1)\n",
    "black_player_2 = ReversiGreedyQLearning(color=-1)\n",
    "\n",
    "white_player_2.epsilon_greedy_rate = 0.8\n",
    "black_player_2.epsilon_greedy_rate = 0.8\n",
    "\n",
    "# Transfer the parameters of policy tuned by pre-learning.\n",
    "white_player_2.r_df = multi_agent_q_learning.q_learning_list[0].r_df\n",
    "white_player_2.q_df = multi_agent_q_learning.q_learning_list[0].q_df\n",
    "black_player_2.r_df = multi_agent_q_learning.q_learning_list[1].r_df\n",
    "black_player_2.q_df = multi_agent_q_learning.q_learning_list[1].q_df"
   ]
  },
  {
   "cell_type": "code",
   "execution_count": 13,
   "metadata": {},
   "outputs": [],
   "source": [
    "multi_agent_q_learning_2 = AlternatedMultiAgent(\n",
    "    q_learning_list=[white_player_2, black_player_2]\n",
    ")\n",
    "multi_agent_q_learning_2.state_key_list = []\n",
    "multi_agent_q_learning_2.learn(first_state_key=map_arr, limit=80, game_n=50)"
   ]
  },
  {
   "cell_type": "code",
   "execution_count": 14,
   "metadata": {},
   "outputs": [
    {
     "data": {
      "image/png": "[encoded data removed]",
      "text/plain": [
       "<matplotlib.figure.Figure at 0x766d63e40eb8>"
      ]
     },
     "metadata": {},
     "output_type": "display_data"
    }
   ],
   "source": [
    "fig = plt.figure(figsize=(8, 8))\n",
    "sns.heatmap(\n",
    "    multi_agent_q_learning_2.state_key_list[-1], \n",
    "    linewidths=.5, \n",
    "    cmap=\"gist_earth\", \n",
    "    cbar=False, \n",
    "    linecolor=\"black\"\n",
    ")\n",
    "plt.show()\n",
    "plt.close()"
   ]
  },
  {
   "cell_type": "code",
   "execution_count": 15,
   "metadata": {},
   "outputs": [],
   "source": [
    "for i in range(80):\n",
    "    fig = plt.figure(figsize=(8, 8))\n",
    "    sns.heatmap(\n",
    "        multi_agent_q_learning_2.state_key_list[i], \n",
    "        linewidths=.5, \n",
    "        cmap=\"gist_earth\", \n",
    "        cbar=False, \n",
    "        linecolor=\"black\"\n",
    "    )\n",
    "    plt.savefig(\"/tmp/reversi_t_\" + str(i) + \".png\");plt.close()\n",
    "\n",
    "first_img = Image.open(\"/tmp/reversi_t_0.png\")\n",
    "img_list = []\n",
    "for i in range(1, 80):\n",
    "    img = Image.open(\"/tmp/reversi_t_\" + str(i) + \".png\")\n",
    "    img_list.append(img)\n",
    "    \n",
    "first_img.save(\n",
    "    'reversi_t.gif', \n",
    "    save_all=True, \n",
    "    append_images=img_list,\n",
    "    optimized=True, \n",
    "    duration=40, \n",
    "    loop=0\n",
    ")\n"
   ]
  },
  {
   "cell_type": "code",
   "execution_count": null,
   "metadata": {},
   "outputs": [],
   "source": [
    "Image.open(\"reversi_t.gif\")"
   ]
  }
 ],
 "metadata": {
  "kernelspec": {
   "display_name": "Python 3",
   "language": "python",
   "name": "python3"
  },
  "language_info": {
   "codemirror_mode": {
    "name": "ipython",
    "version": 3
   },
   "file_extension": ".py",
   "mimetype": "text/x-python",
   "name": "python",
   "nbconvert_exporter": "python",
   "pygments_lexer": "ipython3",
   "version": "3.6.4"
  }
 },
 "nbformat": 4,
 "nbformat_minor": 2
}
