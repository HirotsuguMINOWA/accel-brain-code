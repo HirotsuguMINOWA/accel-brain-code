{
 "cells": [
  {
   "cell_type": "code",
   "execution_count": 1,
   "metadata": {
    "ExecuteTime": {
     "end_time": "2020-07-10T04:53:22.340138Z",
     "start_time": "2020-07-10T04:53:12.572031Z"
    }
   },
   "outputs": [],
   "source": [
    "from pysummarization.abstractablesemantics._mxnet.re_seq_2_seq import ReSeq2Seq\n",
    "from pysummarization.iteratabledata._mxnet.token_iterator import TokenIterator\n",
    "\n",
    "import mxnet as mx"
   ]
  },
  {
   "cell_type": "code",
   "execution_count": 2,
   "metadata": {
    "ExecuteTime": {
     "end_time": "2020-07-10T04:53:22.515888Z",
     "start_time": "2020-07-10T04:53:22.341136Z"
    }
   },
   "outputs": [],
   "source": [
    "import numpy as np\n",
    "import pandas as pd\n",
    "import matplotlib.pyplot as plt\n",
    "%matplotlib inline\n",
    "from logging import getLogger, StreamHandler, NullHandler, DEBUG, ERROR\n",
    "\n",
    "logger = getLogger(\"accelbrainbase\")\n",
    "handler = StreamHandler()\n",
    "handler.setLevel(DEBUG)\n",
    "logger.setLevel(DEBUG)\n",
    "logger.addHandler(handler)"
   ]
  },
  {
   "cell_type": "code",
   "execution_count": 3,
   "metadata": {
    "ExecuteTime": {
     "end_time": "2020-07-10T04:53:22.521868Z",
     "start_time": "2020-07-10T04:53:22.516853Z"
    }
   },
   "outputs": [],
   "source": [
    "# cited from https://en.wikipedia.org/wiki/Encyclopedia\n",
    "document = \"\"\"\n",
    "An encyclopedia or encyclopædia is a reference work or compendium providing summaries of knowledge from either all branches or from a particular field or discipline.[1] Encyclopedias are divided into articles or entries that are often arranged alphabetically by article name[2] and sometimes by thematic categories. Encyclopedia entries are longer and more detailed than those in most dictionaries.[2] Generally speaking, unlike dictionary entries—which focus on linguistic information about words, such as their etymology, meaning, pronunciation, use, and grammatical forms—encyclopedia articles focus on factual information concerning the subject named in the article's title.[3][4][5][6]\n",
    "\n",
    "Encyclopedias have existed for around 2,000 years and have evolved considerably since that time as to language (written in a major international or a vernacular language), size (few or many volumes), intent (presentation of a global or a limited range of knowledge), cultural perceptions (authoritative, ideological, didactic, utilitarian), authorship (qualifications, style), readership (education level, background, interests, capabilities), and the technologies available for their production and distribution (hand-written manuscripts, small or large print runs, internet production). As a valued source of reliable information compiled by experts, printed versions found a prominent place in libraries, schools and other educational institutions.\n",
    "\n",
    "The appearance of digital and open-source versions in the 20th century has vastly expanded the accessibility, authorship, readership, and variety of encyclopedia entries and called into question the idea of what an encyclopedia is[citation needed] and the relevance of applying to such dynamic productions the traditional criteria for assembling and evaluating print encyclopedias.[citation needed]\n",
    "\n",
    "Title page of Skalich's Encyclopaedia, seu orbis disciplinarum, tam sacrarum quam prophanarum, epistemon from 1559, first clear use of the word encyclopaedia in the title.[14]\n",
    "Sixteenth century usage of the compounded word\n",
    "In the sixteenth century there was a level of ambiguity as to how to use this new word. As several titles illustrate, there was not a settled notion about its spelling nor its status as a noun. For example: Jacobus Philomusus's Margarita philosophica encyclopaediam exhibens (1508); Johannes Aventinus's Encyclopedia orbisque doctrinarum, hoc est omnium artium, scientiarum, ipsius philosophiae index ac divisio; Joachimus Fortius Ringelbergius's Lucubrationes vel potius absolutissima kyklopaideia (1538, 1541); Paul Skalich's Encyclopaediae sen orbis disciplinarum epistemon (1559); Gregor Reisch's Margarita philosophica (1503, retitled Encyclopaedia in 1583); and Samuel Eisenmenger's Cyclopaedia Paracelsica (1585).[15] It is only with Pavao Skalić and his Encyclopediae seu orbis disciplinarum tam sacrarum quam profanarum epistemon (Encyclopaedia, or Knowledge of the World of Disciplines, Basel, 1559) that the term became first recognized as a noun.[citation needed]\n",
    "\n",
    "There have been two examples of the oldest vernacular use of the compounded word. In approximately 1490, Franciscus Puccius wrote a letter to Politianus thanking him for his Miscellanea, calling it an encyclopedia.[16] More commonly, François Rabelais is cited for his use of the term in Pantagruel (1532).[17][18]\n",
    "\n",
    "The suffix -p(a)edia\n",
    "Several encyclopedias have names that include the suffix -p(a)edia, to mark the text as belonging to the genre of encyclopedias. For example, Banglapedia (on matters relevant for Bangladesh).\n",
    "\n",
    "Contemporary usage\n",
    "Today in English, the word is most commonly spelled encyclopedia, though encyclopaedia (from encyclopædia) is also used in Britain.[19]\n",
    "\n",
    "Characteristics\n",
    "The modern encyclopedia was developed from the dictionary in the 18th century. Historically, both encyclopedias and dictionaries have been researched and written by well-educated, well-informed content experts, but they are significantly different in structure. A dictionary is a linguistic work which primarily focuses on alphabetical listing of words and their definitions. Synonymous words and those related by the subject matter are to be found scattered around the dictionary, giving no obvious place for in-depth treatment. Thus, a dictionary typically provides limited information, analysis or background for the word defined. While it may offer a definition, it may leave the reader lacking in understanding the meaning, significance or limitations of a term, and how the term relates to a broader field of knowledge. An encyclopedia is, theoretically, not written in order to convince, although one of its goals is indeed to convince its reader of its own veracity.\n",
    "\n",
    "To address those needs, an encyclopedia article is typically not limited to simple definitions, and is not limited to defining an individual word, but provides a more extensive meaning for a subject or discipline. In addition to defining and listing synonymous terms for the topic, the article is able to treat the topic's more extensive meaning in more depth and convey the most relevant accumulated knowledge on that subject. An encyclopedia article also often includes many maps and illustrations, as well as bibliography and statistics.\n",
    "\n",
    "Four major elements define an encyclopedia: its subject matter, its scope, its method of organization, and its method of production:\n",
    "\n",
    "\n",
    "\"\"\""
   ]
  },
  {
   "cell_type": "code",
   "execution_count": 4,
   "metadata": {
    "ExecuteTime": {
     "end_time": "2020-07-10T04:53:22.529847Z",
     "start_time": "2020-07-10T04:53:22.522849Z"
    }
   },
   "outputs": [],
   "source": [
    "from pysummarization.nlp_base import NlpBase\n",
    "from pysummarization.tokenizabledoc.simple_tokenizer import SimpleTokenizer"
   ]
  },
  {
   "cell_type": "code",
   "execution_count": 5,
   "metadata": {
    "ExecuteTime": {
     "end_time": "2020-07-10T04:53:22.535828Z",
     "start_time": "2020-07-10T04:53:22.531815Z"
    }
   },
   "outputs": [],
   "source": [
    "nlp_base = NlpBase()\n",
    "nlp_base.delimiter_list = [\".\", \"\\n\"]\n",
    "tokenizable_doc = SimpleTokenizer()\n",
    "sentence_list = nlp_base.listup_sentence(document)\n",
    "token_list = tokenizable_doc.tokenize(document)"
   ]
  },
  {
   "cell_type": "code",
   "execution_count": 6,
   "metadata": {
    "ExecuteTime": {
     "end_time": "2020-07-10T04:53:22.544779Z",
     "start_time": "2020-07-10T04:53:22.536798Z"
    },
    "scrolled": true
   },
   "outputs": [
    {
     "data": {
      "text/plain": [
       "(['An encyclopedia or encyclopædia is a reference work or compendium providing summaries of knowledge from either all branches or from a particular field or discipline.\\n',\n",
       "  '[1] Encyclopedias are divided into articles or entries that are often arranged alphabetically by article name[2] and sometimes by thematic categories.\\n',\n",
       "  ' Encyclopedia entries are longer and more detailed than those in most dictionaries.\\n',\n",
       "  \"[2] Generally speaking, unlike dictionary entries—which focus on linguistic information about words, such as their etymology, meaning, pronunciation, use, and grammatical forms—encyclopedia articles focus on factual information concerning the subject named in the article's title.\\n\",\n",
       "  '[3][4][5][6]\\n',\n",
       "  'Encyclopedias have existed for around 2,000 years and have evolved considerably since that time as to language (written in a major international or a vernacular language), size (few or many volumes), intent (presentation of a global or a limited range of knowledge), cultural perceptions (authoritative, ideological, didactic, utilitarian), authorship (qualifications, style), readership (education level, background, interests, capabilities), and the technologies available for their production and distribution (hand-written manuscripts, small or large print runs, internet production).\\n',\n",
       "  ' As a valued source of reliable information compiled by experts, printed versions found a prominent place in libraries, schools and other educational institutions.\\n',\n",
       "  'The appearance of digital and open-source versions in the 20th century has vastly expanded the accessibility, authorship, readership, and variety of encyclopedia entries and called into question the idea of what an encyclopedia is[citation needed] and the relevance of applying to such dynamic productions the traditional criteria for assembling and evaluating print encyclopedias.\\n',\n",
       "  '[citation needed]\\n',\n",
       "  \"Title page of Skalich's Encyclopaedia, seu orbis disciplinarum, tam sacrarum quam prophanarum, epistemon from 1559, first clear use of the word encyclopaedia in the title.\\n\",\n",
       "  '[14]\\n',\n",
       "  'Sixteenth century usage of the compounded word\\n',\n",
       "  'In the sixteenth century there was a level of ambiguity as to how to use this new word.\\n',\n",
       "  ' As several titles illustrate, there was not a settled notion about its spelling nor its status as a noun.\\n',\n",
       "  \" For example: Jacobus Philomusus's Margarita philosophica encyclopaediam exhibens (1508); Johannes Aventinus's Encyclopedia orbisque doctrinarum, hoc est omnium artium, scientiarum, ipsius philosophiae index ac divisio; Joachimus Fortius Ringelbergius's Lucubrationes vel potius absolutissima kyklopaideia (1538, 1541); Paul Skalich's Encyclopaediae sen orbis disciplinarum epistemon (1559); Gregor Reisch's Margarita philosophica (1503, retitled Encyclopaedia in 1583); and Samuel Eisenmenger's Cyclopaedia Paracelsica (1585).\\n\",\n",
       "  '[15] It is only with Pavao Skalić and his Encyclopediae seu orbis disciplinarum tam sacrarum quam profanarum epistemon (Encyclopaedia, or Knowledge of the World of Disciplines, Basel, 1559) that the term became first recognized as a noun.\\n',\n",
       "  '[citation needed]\\n',\n",
       "  'There have been two examples of the oldest vernacular use of the compounded word.\\n',\n",
       "  ' In approximately 1490, Franciscus Puccius wrote a letter to Politianus thanking him for his Miscellanea, calling it an encyclopedia.\\n',\n",
       "  '[16] More commonly, François Rabelais is cited for his use of the term in Pantagruel (1532).\\n',\n",
       "  '[17][18]\\n',\n",
       "  'The suffix -p(a)edia\\n',\n",
       "  'Several encyclopedias have names that include the suffix -p(a)edia, to mark the text as belonging to the genre of encyclopedias.\\n',\n",
       "  ' For example, Banglapedia (on matters relevant for Bangladesh).\\n',\n",
       "  'Contemporary usage\\n',\n",
       "  'Today in English, the word is most commonly spelled encyclopedia, though encyclopaedia (from encyclopædia) is also used in Britain.\\n',\n",
       "  '[19]\\n',\n",
       "  'Characteristics\\n',\n",
       "  'The modern encyclopedia was developed from the dictionary in the 18th century.\\n',\n",
       "  ' Historically, both encyclopedias and dictionaries have been researched and written by well-educated, well-informed content experts, but they are significantly different in structure.\\n',\n",
       "  ' A dictionary is a linguistic work which primarily focuses on alphabetical listing of words and their definitions.\\n',\n",
       "  ' Synonymous words and those related by the subject matter are to be found scattered around the dictionary, giving no obvious place for in-depth treatment.\\n',\n",
       "  ' Thus, a dictionary typically provides limited information, analysis or background for the word defined.\\n',\n",
       "  ' While it may offer a definition, it may leave the reader lacking in understanding the meaning, significance or limitations of a term, and how the term relates to a broader field of knowledge.\\n',\n",
       "  ' An encyclopedia is, theoretically, not written in order to convince, although one of its goals is indeed to convince its reader of its own veracity.\\n',\n",
       "  'To address those needs, an encyclopedia article is typically not limited to simple definitions, and is not limited to defining an individual word, but provides a more extensive meaning for a subject or discipline.\\n',\n",
       "  \" In addition to defining and listing synonymous terms for the topic, the article is able to treat the topic's more extensive meaning in more depth and convey the most relevant accumulated knowledge on that subject.\\n\",\n",
       "  ' An encyclopedia article also often includes many maps and illustrations, as well as bibliography and statistics.\\n',\n",
       "  'Four major elements define an encyclopedia: its subject matter, its scope, its method of organization, and its method of production:\\n',\n",
       "  '.\\n'],\n",
       " 40)"
      ]
     },
     "execution_count": 6,
     "metadata": {},
     "output_type": "execute_result"
    }
   ],
   "source": [
    "sentence_list, len(sentence_list)"
   ]
  },
  {
   "cell_type": "code",
   "execution_count": 7,
   "metadata": {
    "ExecuteTime": {
     "end_time": "2020-07-10T04:53:22.550774Z",
     "start_time": "2020-07-10T04:53:22.545776Z"
    }
   },
   "outputs": [
    {
     "data": {
      "text/plain": [
       "438"
      ]
     },
     "execution_count": 7,
     "metadata": {},
     "output_type": "execute_result"
    }
   ],
   "source": [
    "len(list(set(token_list)))"
   ]
  },
  {
   "cell_type": "code",
   "execution_count": 8,
   "metadata": {
    "ExecuteTime": {
     "end_time": "2020-07-10T04:53:22.556757Z",
     "start_time": "2020-07-10T04:53:22.552758Z"
    }
   },
   "outputs": [],
   "source": [
    "token_arr = np.array(token_list)"
   ]
  },
  {
   "cell_type": "code",
   "execution_count": 9,
   "metadata": {
    "ExecuteTime": {
     "end_time": "2020-07-10T04:53:22.564726Z",
     "start_time": "2020-07-10T04:53:22.558744Z"
    }
   },
   "outputs": [],
   "source": [
    "from pysummarization.vectorizabletoken.t_hot_vectorizer import THotVectorizer"
   ]
  },
  {
   "cell_type": "code",
   "execution_count": 10,
   "metadata": {
    "ExecuteTime": {
     "end_time": "2020-07-10T04:53:22.569712Z",
     "start_time": "2020-07-10T04:53:22.565723Z"
    }
   },
   "outputs": [],
   "source": [
    "vectorizable_token = THotVectorizer(token_list=token_arr.tolist())"
   ]
  },
  {
   "cell_type": "code",
   "execution_count": 11,
   "metadata": {
    "ExecuteTime": {
     "end_time": "2020-07-10T04:53:22.655547Z",
     "start_time": "2020-07-10T04:53:22.570709Z"
    }
   },
   "outputs": [],
   "source": [
    "token_iterator = TokenIterator(\n",
    "    vectorizable_token=vectorizable_token, \n",
    "    token_arr=token_arr, \n",
    "    epochs=300,\n",
    "    batch_size=25,\n",
    "    seq_len=5,\n",
    "    test_size=0.3,\n",
    "    norm_mode=None,\n",
    "    ctx=mx.gpu()\n",
    ")"
   ]
  },
  {
   "cell_type": "code",
   "execution_count": 12,
   "metadata": {
    "ExecuteTime": {
     "end_time": "2020-07-10T04:53:23.352163Z",
     "start_time": "2020-07-10T04:53:22.656478Z"
    }
   },
   "outputs": [
    {
     "data": {
      "text/plain": [
       "(25, 5, 438)"
      ]
     },
     "execution_count": 12,
     "metadata": {},
     "output_type": "execute_result"
    }
   ],
   "source": [
    "for observed_arr, _, _, _ in token_iterator.generate_learned_samples():\n",
    "    break\n",
    "observed_arr.shape"
   ]
  },
  {
   "cell_type": "code",
   "execution_count": 13,
   "metadata": {
    "ExecuteTime": {
     "end_time": "2020-07-10T04:53:23.356128Z",
     "start_time": "2020-07-10T04:53:23.353136Z"
    }
   },
   "outputs": [],
   "source": [
    "computable_loss = None\n",
    "#mx.gluon.loss.SoftmaxCrossEntropyLoss(\n",
    "#    sparse_label=False\n",
    "#)"
   ]
  },
  {
   "cell_type": "code",
   "execution_count": 14,
   "metadata": {
    "ExecuteTime": {
     "end_time": "2020-07-10T04:53:24.505826Z",
     "start_time": "2020-07-10T04:53:23.358122Z"
    }
   },
   "outputs": [],
   "source": [
    "abstractable_semantics = ReSeq2Seq(\n",
    "    encoder_decoder_controller=None,\n",
    "    retrospective_encoder=None,\n",
    "    hidden_neuron_count=observed_arr.shape[-1],\n",
    "    output_neuron_count=observed_arr.shape[-1],\n",
    "    dropout_rate=0.0,\n",
    "    batch_size=25,\n",
    "    learning_rate=1e-05,\n",
    "    learning_attenuate_rate=0.1,\n",
    "    attenuate_epoch=50,\n",
    "    seq_len=5,\n",
    "    ctx=mx.gpu()\n",
    ")"
   ]
  },
  {
   "cell_type": "code",
   "execution_count": 15,
   "metadata": {
    "ExecuteTime": {
     "end_time": "2020-07-10T04:54:00.054167Z",
     "start_time": "2020-07-10T04:53:24.506802Z"
    }
   },
   "outputs": [
    {
     "name": "stderr",
     "output_type": "stream",
     "text": [
      "Epoch: 100\n",
      "Loss: \n",
      "Training: 0.0022829303 Test: 0.002282925\n",
      "Epoch: 200\n",
      "Loss: \n",
      "Training: 0.0022822777 Test: 0.00228227\n",
      "Epoch: 300\n",
      "Loss: \n",
      "Training: 0.0022816607 Test: 0.0022816474\n",
      "end. \n"
     ]
    }
   ],
   "source": [
    "abstractable_semantics.learn(token_iterator)"
   ]
  },
  {
   "cell_type": "code",
   "execution_count": 17,
   "metadata": {
    "ExecuteTime": {
     "end_time": "2020-07-10T04:54:00.264605Z",
     "start_time": "2020-07-10T04:54:00.067168Z"
    }
   },
   "outputs": [
    {
     "data": {
      "image/png": "[encoded data removed]",
      "text/plain": [
       "<Figure size 1440x720 with 1 Axes>"
      ]
     },
     "metadata": {
      "needs_background": "light"
     },
     "output_type": "display_data"
    }
   ],
   "source": [
    "plt.figure(figsize=(20, 10))\n",
    "plt.plot(\n",
    "    abstractable_semantics.logs_arr[:, 0],\n",
    "    label=\"Train loss.\"\n",
    ")\n",
    "plt.plot(\n",
    "    abstractable_semantics.logs_arr[:, 1],\n",
    "    label=\"Test loss.\"\n",
    ")\n",
    "plt.legend()\n",
    "plt.show()"
   ]
  },
  {
   "cell_type": "code",
   "execution_count": 18,
   "metadata": {
    "ExecuteTime": {
     "end_time": "2020-07-10T04:54:01.505333Z",
     "start_time": "2020-07-10T04:54:00.265602Z"
    }
   },
   "outputs": [],
   "source": [
    "abstract_list = abstractable_semantics.summarize(\n",
    "    token_iterator,\n",
    "    vectorizable_token,\n",
    "    sentence_list,\n",
    "    limit=5\n",
    ")"
   ]
  },
  {
   "cell_type": "code",
   "execution_count": 19,
   "metadata": {
    "ExecuteTime": {
     "end_time": "2020-07-10T04:54:01.510275Z",
     "start_time": "2020-07-10T04:54:01.506285Z"
    }
   },
   "outputs": [
    {
     "name": "stdout",
     "output_type": "stream",
     "text": [
      " For example: Jacobus Philomusus's Margarita philosophica encyclopaediam exhibens (1508); Johannes Aventinus's Encyclopedia orbisque doctrinarum, hoc est omnium artium, scientiarum, ipsius philosophiae index ac divisio; Joachimus Fortius Ringelbergius's Lucubrationes vel potius absolutissima kyklopaideia (1538, 1541); Paul Skalich's Encyclopaediae sen orbis disciplinarum epistemon (1559); Gregor Reisch's Margarita philosophica (1503, retitled Encyclopaedia in 1583); and Samuel Eisenmenger's Cyclopaedia Paracelsica (1585).\n",
      "\n",
      "Today in English, the word is most commonly spelled encyclopedia, though encyclopaedia (from encyclopædia) is also used in Britain.\n",
      "\n"
     ]
    }
   ],
   "source": [
    "for a in abstract_list:\n",
    "    print(a)"
   ]
  },
  {
   "cell_type": "code",
   "execution_count": null,
   "metadata": {},
   "outputs": [],
   "source": []
  }
 ],
 "metadata": {
  "kernelspec": {
   "display_name": "Python 3",
   "language": "python",
   "name": "python3"
  },
  "language_info": {
   "codemirror_mode": {
    "name": "ipython",
    "version": 3
   },
   "file_extension": ".py",
   "mimetype": "text/x-python",
   "name": "python",
   "nbconvert_exporter": "python",
   "pygments_lexer": "ipython3",
   "version": "3.7.6"
  }
 },
 "nbformat": 4,
 "nbformat_minor": 2
}
