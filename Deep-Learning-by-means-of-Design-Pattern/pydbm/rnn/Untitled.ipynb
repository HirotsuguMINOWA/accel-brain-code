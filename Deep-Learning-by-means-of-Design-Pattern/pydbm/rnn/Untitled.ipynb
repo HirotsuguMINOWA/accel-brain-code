{
 "cells": [
  {
   "cell_type": "code",
   "execution_count": 1,
   "metadata": {},
   "outputs": [],
   "source": [
    "import numpy as np\n",
    "import pandas as pd"
   ]
  },
  {
   "cell_type": "code",
   "execution_count": 9,
   "metadata": {},
   "outputs": [],
   "source": [
    "token_list = [\"hoge\", \"fuga\", \"is\", \".\"]\n",
    "\n",
    "token_master_list = list(set(token_list))\n",
    "\n",
    "sentence_list = [[\"hoge\", \"hoge\", \"hoge\", \"fuga\", \".\"], [\"fuga\", \"is\", \"hoge\", \".\"]]"
   ]
  },
  {
   "cell_type": "code",
   "execution_count": 10,
   "metadata": {},
   "outputs": [],
   "source": [
    "sentence_len_list = [0] * len(sentence_list)\n",
    "for i in range(len(sentence_list)):\n",
    "    sentence_len_list[i] = len(sentence_list[i])\n",
    "sentence_mean_len = int(sum(sentence_len_list) / len(sentence_len_list))"
   ]
  },
  {
   "cell_type": "code",
   "execution_count": 11,
   "metadata": {},
   "outputs": [
    {
     "data": {
      "text/plain": [
       "4"
      ]
     },
     "execution_count": 11,
     "metadata": {},
     "output_type": "execute_result"
    }
   ],
   "source": [
    "sentence_mean_len"
   ]
  },
  {
   "cell_type": "code",
   "execution_count": 22,
   "metadata": {},
   "outputs": [],
   "source": [
    "observed_list = [None] * len(sentence_list)\n",
    "for i in range(len(sentence_list)):\n",
    "    arr_list = [None] * sentence_mean_len\n",
    "    for j in range(sentence_mean_len):\n",
    "        try:\n",
    "            token = sentence_list[i][j]\n",
    "        except IndexError:\n",
    "            token = None\n",
    "        arr = np.zeros(len(token_master_list))\n",
    "        if token is not None:\n",
    "            value = 1\n",
    "        else:\n",
    "            value = 0\n",
    "        arr[token_master_list.index(token)] = value\n",
    "        arr = arr.astype(np.float64)\n",
    "        arr_list[j] = arr\n",
    "    observed_list[i] = arr_list\n",
    "observed_arr = np.array(observed_list)"
   ]
  },
  {
   "cell_type": "code",
   "execution_count": 23,
   "metadata": {},
   "outputs": [
    {
     "data": {
      "text/plain": [
       "(2, 4, 4)"
      ]
     },
     "execution_count": 23,
     "metadata": {},
     "output_type": "execute_result"
    }
   ],
   "source": [
    "observed_arr.shape"
   ]
  },
  {
   "cell_type": "code",
   "execution_count": 24,
   "metadata": {},
   "outputs": [
    {
     "data": {
      "text/plain": [
       "[[array([ 0.,  1.,  0.,  0.]),\n",
       "  array([ 0.,  1.,  0.,  0.]),\n",
       "  array([ 0.,  1.,  0.,  0.]),\n",
       "  array([ 1.,  0.,  0.,  0.])],\n",
       " [array([ 1.,  0.,  0.,  0.]),\n",
       "  array([ 0.,  0.,  0.,  1.]),\n",
       "  array([ 0.,  1.,  0.,  0.]),\n",
       "  array([ 0.,  0.,  1.,  0.])]]"
      ]
     },
     "execution_count": 24,
     "metadata": {},
     "output_type": "execute_result"
    }
   ],
   "source": [
    "observed_list"
   ]
  },
  {
   "cell_type": "code",
   "execution_count": null,
   "metadata": {},
   "outputs": [],
   "source": []
  }
 ],
 "metadata": {
  "kernelspec": {
   "display_name": "Python 3",
   "language": "python",
   "name": "python3"
  },
  "language_info": {
   "codemirror_mode": {
    "name": "ipython",
    "version": 3
   },
   "file_extension": ".py",
   "mimetype": "text/x-python",
   "name": "python",
   "nbconvert_exporter": "python",
   "pygments_lexer": "ipython3",
   "version": "3.6.4"
  }
 },
 "nbformat": 4,
 "nbformat_minor": 2
}
