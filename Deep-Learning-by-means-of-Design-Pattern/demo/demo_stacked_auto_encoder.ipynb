{
 "cells": [
  {
   "cell_type": "markdown",
   "metadata": {},
   "source": [
    "# Observing reconstruction errors of DBM as a Stacked Auto-Encoder.\n",
    "\n",
    "This notebook demonstrates DBM as a stacked Auto-Encoder can learn so as to minimize the reconstruction error."
   ]
  },
  {
   "cell_type": "code",
   "execution_count": 1,
   "metadata": {},
   "outputs": [
    {
     "data": {
      "text/plain": [
       "array([[ 0.79150136,  0.23245034,  0.67281583, ...,  0.49377292,\n",
       "         0.63162216,  0.34461596],\n",
       "       [ 0.31589684,  0.59615883,  0.72951416, ...,  0.34451209,\n",
       "         0.3088582 ,  0.04401642],\n",
       "       [ 0.36788467,  0.79971757,  0.5624791 , ...,  0.66286919,\n",
       "         0.30830157,  0.50840556],\n",
       "       ..., \n",
       "       [ 0.56905321,  0.83302646,  0.48195894, ...,  0.77575209,\n",
       "         0.56168757,  0.32250127],\n",
       "       [ 0.30617135,  0.4728547 ,  0.2212847 , ...,  0.2392718 ,\n",
       "         0.49113941,  0.47381631],\n",
       "       [ 0.46464483,  0.33031883,  0.45981089, ...,  0.52430262,\n",
       "         0.2273285 ,  0.18092191]])"
      ]
     },
     "execution_count": 1,
     "metadata": {},
     "output_type": "execute_result"
    }
   ],
   "source": [
    "import numpy as np\n",
    "target_arr = np.random.normal(loc=0.5, scale=0.2, size=(1000, 1000))\n",
    "target_arr"
   ]
  },
  {
   "cell_type": "markdown",
   "metadata": {},
   "source": [
    "Import Python and Cython modules."
   ]
  },
  {
   "cell_type": "code",
   "execution_count": 2,
   "metadata": {},
   "outputs": [],
   "source": [
    "# `StackedAutoEncoder` is-a `DeepBoltzmannMachine`.\n",
    "from pydbm.dbm.deepboltzmannmachine.stacked_auto_encoder import StackedAutoEncoder\n",
    "# The `Concrete Builder` in Builder Pattern.\n",
    "from pydbm.dbm.builders.dbm_multi_layer_builder import DBMMultiLayerBuilder\n",
    "# Contrastive Divergence for function approximation.\n",
    "from pydbm.approximation.contrastive_divergence import ContrastiveDivergence\n",
    "# Logistic Function as activation function.\n",
    "from pydbm.activation.logistic_function import LogisticFunction"
   ]
  },
  {
   "cell_type": "markdown",
   "metadata": {},
   "source": [
    "Instantiate objects and call the method."
   ]
  },
  {
   "cell_type": "code",
   "execution_count": 3,
   "metadata": {},
   "outputs": [],
   "source": [
    "# Setting objects for activation function.\n",
    "activation_list = [\n",
    "    LogisticFunction(), \n",
    "    LogisticFunction(), \n",
    "    LogisticFunction()\n",
    "]\n",
    "\n",
    "# Setting the object for function approximation.\n",
    "approximaion_list = [ContrastiveDivergence(), ContrastiveDivergence()]\n",
    "\n",
    "dbm = StackedAutoEncoder(\n",
    "    DBMMultiLayerBuilder(),\n",
    "    [target_arr.shape[1], 100, target_arr.shape[1]],\n",
    "    activation_list,\n",
    "    approximaion_list,\n",
    "    1e-05, # Setting learning rate.\n",
    "    0.5   # Setting dropout rate.\n",
    "    \n",
    ")\n",
    "\n",
    "# Execute learning.\n",
    "dbm.learn(\n",
    "    target_arr,\n",
    "    training_count=100, # If approximation is the Contrastive Divergence, this parameter is `k` in CD method.\n",
    "    batch_size=100,  # Batch size in mini-batch training.\n",
    "    r_batch_size=-1,  # if `r_batch_size` > 0, the function of `dbm.learn` is a kind of reccursive learning.\n",
    "    sgd_flag=True\n",
    ")"
   ]
  },
  {
   "cell_type": "markdown",
   "metadata": {},
   "source": [
    "## Extract reconstruction error rate.\n",
    "\n",
    "You can check the reconstruction error rate. During the approximation of the Contrastive Divergence, the mean squared error(MSE) between the observed data points and the activities in visible layer is computed as the reconstruction error rate.\n",
    "\n",
    "Call `get_reconstruct_error_arr` method as follow."
   ]
  },
  {
   "cell_type": "code",
   "execution_count": 4,
   "metadata": {},
   "outputs": [
    {
     "data": {
      "text/plain": [
       "<matplotlib.figure.Figure at 0x7a235a76d978>"
      ]
     },
     "metadata": {},
     "output_type": "display_data"
    }
   ],
   "source": [
    "import matplotlib.pyplot as plt\n",
    "# layer_number corresponds to the index of approximaion_list. \n",
    "# And reconstruct_error_arr is the np.ndarray of reconstruction error rates.\n",
    "reconstruct_error_arr = dbm.get_reconstruct_error_arr(layer_number=0)\n",
    "fig = plt.figure(figsize=(20, 10))\n",
    "plt.plot(reconstruct_error_arr)\n",
    "plt.show();plt.close()"
   ]
  },
  {
   "cell_type": "markdown",
   "metadata": {},
   "source": [
    "## Extract the result of dimention reduction\n",
    "\n",
    "And the result of dimention reduction can be extracted by this property."
   ]
  },
  {
   "cell_type": "code",
   "execution_count": 5,
   "metadata": {},
   "outputs": [],
   "source": [
    "pre_trained_arr = dbm.feature_points_arr"
   ]
  },
  {
   "cell_type": "markdown",
   "metadata": {},
   "source": [
    "## Extract weights obtained by pre-training.\n",
    "\n",
    "If you want to get the pre-training weights, call get_weight_arr_list method."
   ]
  },
  {
   "cell_type": "code",
   "execution_count": 6,
   "metadata": {},
   "outputs": [],
   "source": [
    "weight_arr_list = dbm.get_weight_arr_list()"
   ]
  },
  {
   "cell_type": "markdown",
   "metadata": {},
   "source": [
    "`weight_arr_list` is the list of weights of each links in DBM. `weight_arr_list[0]` is 2-d np.ndarray of weights between visible layer and first hidden layer."
   ]
  },
  {
   "cell_type": "markdown",
   "metadata": {},
   "source": [
    "## Extract biases obtained by pre-training.\n",
    "Call get_visible_bias_arr_list method and get_hidden_bias_arr_list method in the same way."
   ]
  },
  {
   "cell_type": "code",
   "execution_count": 7,
   "metadata": {},
   "outputs": [],
   "source": [
    "visible_bias_arr_list = dbm.get_visible_bias_arr_list()\n",
    "hidden_bias_arr_list = dbm.get_hidden_bias_arr_list()"
   ]
  },
  {
   "cell_type": "markdown",
   "metadata": {},
   "source": [
    "`visible_bias_arr_list` and `hidden_bias_arr_list` are the list of biases of each links in DBM."
   ]
  },
  {
   "cell_type": "markdown",
   "metadata": {},
   "source": [
    "## Transfer learning in DBM.\n",
    "`DBMMultiLayerBuilder` can be given `weight_arr_list`, `visible_bias_arr_list`, and `hidden_bias_arr_list` obtained by pre-training."
   ]
  },
  {
   "cell_type": "code",
   "execution_count": 8,
   "metadata": {},
   "outputs": [
    {
     "name": "stderr",
     "output_type": "stream",
     "text": [
      "/usr/local/bin/.pyenv/versions/anaconda3-5.1.0/lib/python3.6/site-packages/ipykernel_launcher.py:26: FutureWarning: `traning_count` will be removed in future version. Use `training_count`.\n"
     ]
    }
   ],
   "source": [
    "next_target_arr = np.random.normal(loc=0.5, scale=0.2, size=(1000, 1000))\n",
    "\n",
    "dbm_t = StackedAutoEncoder(\n",
    "    DBMMultiLayerBuilder(\n",
    "        # Setting pre-learned weights matrix.\n",
    "        weight_arr_list,\n",
    "        # Setting pre-learned bias in visible layer.\n",
    "        visible_bias_arr_list,\n",
    "        # Setting pre-learned bias in hidden layer.\n",
    "        hidden_bias_arr_list\n",
    "    ),\n",
    "    [next_target_arr.shape[1], 100, next_target_arr.shape[1]],\n",
    "    activation_list,\n",
    "    approximaion_list,\n",
    "    # Setting learning rate.\n",
    "    1e-05,\n",
    "    # Setting dropout rate.\n",
    "    0.0\n",
    ")\n",
    "\n",
    "# Execute learning.\n",
    "dbm_t.learn(\n",
    "    next_target_arr,\n",
    "    100, # If approximation is the Contrastive Divergence, this parameter is `k` in CD method.\n",
    "    batch_size=100,  # Batch size in mini-batch training.\n",
    "    r_batch_size=-1  # if `r_batch_size` > 0, the function of `dbm.learn` is a kind of reccursive learning.\n",
    ")"
   ]
  },
  {
   "cell_type": "markdown",
   "metadata": {},
   "source": [
    "## Extract reconstruction error rate."
   ]
  },
  {
   "cell_type": "code",
   "execution_count": 9,
   "metadata": {},
   "outputs": [
    {
     "data": {
      "image/png": "[encoded data removed]",
      "text/plain": [
       "<matplotlib.figure.Figure at 0x7a235539fb70>"
      ]
     },
     "metadata": {},
     "output_type": "display_data"
    }
   ],
   "source": [
    "reconstruct_error_arr = dbm_t.get_reconstruct_error_arr(layer_number=0)\n",
    "fig = plt.figure(figsize=(20, 10))\n",
    "plt.plot(reconstruct_error_arr)\n",
    "plt.show();plt.close()"
   ]
  },
  {
   "cell_type": "code",
   "execution_count": null,
   "metadata": {},
   "outputs": [],
   "source": []
  }
 ],
 "metadata": {
  "kernelspec": {
   "display_name": "Python 3",
   "language": "python",
   "name": "python3"
  },
  "language_info": {
   "codemirror_mode": {
    "name": "ipython",
    "version": 3
   },
   "file_extension": ".py",
   "mimetype": "text/x-python",
   "name": "python",
   "nbconvert_exporter": "python",
   "pygments_lexer": "ipython3",
   "version": "3.6.4"
  }
 },
 "nbformat": 4,
 "nbformat_minor": 2
}
